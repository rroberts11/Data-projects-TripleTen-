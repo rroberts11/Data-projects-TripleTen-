{
 "cells": [
  {
   "cell_type": "markdown",
   "metadata": {},
   "source": [
    "<div style=\"border-radius: 15px; border: 3px solid indigo; padding: 15px;\">\n",
    "<b> Reviewer's comment 3 </b>\n",
    "    \n",
    "Excellent job, thank you so much! I do not have any questions, so the project can be accepted. Good luck!    \n",
    "    \n",
    "\n",
    "</div>"
   ]
  },
  {
   "cell_type": "markdown",
   "metadata": {},
   "source": [
    "<div style=\"border-radius: 15px; border: 3px solid indigo; padding: 15px;\">\n",
    "<b> Reviewer's comment 2 </b>\n",
    "    \n",
    "Thank you very much for taking the time to update the project! There's only one issue this time: please try to implement hyperparameter tuning for at least one of the models.\n",
    "    \n",
    "\n",
    "</div>"
   ]
  },
  {
   "cell_type": "markdown",
   "metadata": {},
   "source": [
    "<div style=\"border-radius: 15px; border: 3px solid indigo; padding: 15px;\">\n",
    "<b> Reviewer's comment</b>\n",
    "    \n",
    "Hi Ryan, I am a reviewer on this project. Congratulations on submitting numerical methods project! 🎉\n",
    "    \n",
    "\n",
    "I will be using the standard color marking:\n",
    "    \n",
    "<div class=\"alert alert-success\" style=\"border-radius: 15px; box-shadow: 4px 4px 4px; border: 1px solid \">\n",
    "<b> Reviewer's comment ✔️</b>\n",
    "    \n",
    "Great solutions and ideas that can and should be used in the future are in green comments.   \n",
    "</div>    \n",
    "    \n",
    "    \n",
    "<div class=\"alert alert-warning\" style=\"border-radius: 15px; box-shadow: 4px 4px 4px; border: 1px solid \">\n",
    "<b> Reviewer's comment ⚠️</b>\n",
    "\n",
    "Yellow color indicates what should be optimized. This is not necessary, but it will be great if you make changes to this project.\n",
    "</div>      \n",
    "    \n",
    "    \n",
    "<div class=\"alert alert-danger\" style=\"border-radius: 15px; box-shadow: 4px 4px 4px; border: 1px solid \">\n",
    "<b> Reviewer's comment ❌</b>\n",
    "\n",
    "Issues that need to be corrected to get right results are indicated in red comments. Note that the project cannot be accepted until these issues are resolved.\n",
    "</div>    \n",
    "\n",
    "<hr>\n",
    "    \n",
    "**Please, use some color other than those listed to highlight answers to my comments.**\n",
    "I would also ask you **not to change, move or delete my comments** so that it would be easier for me to navigate during the next review.\n",
    "    \n",
    "In addition, my comments are defined as headings. \n",
    "They can mess up the content; however, they are convenient, since you can immediately go to them.\n",
    "   \n",
    "    \n",
    "    \n",
    "<hr>\n",
    "    \n",
    "<font color='dodgerblue'>**A few words about the project:**</font> excellent job on this project, thank you so much! \n",
    "    \n",
    "    \n",
    "- You have successfully explored the dataframe and conducted preprocessing;\n",
    "    \n",
    "    \n",
    "- The project also has the EDA part, well done!   \n",
    "    \n",
    "    \n",
    "- You have trained and compared several models and their training speed, great!\n",
    "    \n",
    "    \n",
    "There are just several issues that need your attention. Would you take a look at my comments? \n",
    "\n",
    "\n",
    "</div>"
   ]
  },
  {
   "cell_type": "markdown",
   "metadata": {},
   "source": [
    "# Fast and Accurate Car Price Prediction: Machine Learning Model for Rusty Bargain"
   ]
  },
  {
   "cell_type": "markdown",
   "metadata": {},
   "source": [
    "Rusty Bargain used car sales service is developing an app to attract new customers. In that app, you can quickly find out the market value of your car. You have access to historical data: technical specifications, trim versions, and prices. You need to build the model to determine the value. \n",
    "\n",
    "Rusty Bargain is interested in:\n",
    "\n",
    "- the quality of the prediction;\n",
    "- the speed of the prediction;\n",
    "- the time required for training"
   ]
  },
  {
   "cell_type": "markdown",
   "metadata": {},
   "source": [
    "<div class=\"alert alert-success\" style=\"border-radius: 15px; box-shadow: 4px 4px 4px; border: 1px solid \">\n",
    "<b> Reviewer's comment</b>\n",
    "    \n",
    "Good introduction! \n",
    "    \n",
    "</div>\n",
    "<div class=\"alert alert-warning\" style=\"border-radius: 15px; box-shadow: 4px 4px 4px; border: 1px solid \">\n",
    "<b> Reviewer's comment</b>\n",
    "    \n",
    "Please don't forget about project title :) A title should reflect the core goals.\n",
    "    \n",
    "</div>"
   ]
  },
  {
   "cell_type": "markdown",
   "metadata": {},
   "source": [
    "## Data preparation"
   ]
  },
  {
   "cell_type": "code",
   "execution_count": 1,
   "metadata": {},
   "outputs": [],
   "source": [
    "import pandas as pd\n",
    "import numpy as np\n",
    "import time\n",
    "import matplotlib.pyplot as plt\n",
    "import seaborn as sns\n",
    "import lightgbm as lgb\n",
    "import xgboost as xgb\n",
    "from sklearn.model_selection import train_test_split, RandomizedSearchCV\n",
    "from sklearn.preprocessing import OrdinalEncoder\n",
    "from sklearn.linear_model import LinearRegression\n",
    "from sklearn.ensemble import RandomForestRegressor\n",
    "from sklearn.tree import DecisionTreeRegressor\n",
    "from sklearn.metrics import mean_squared_error\n",
    "from catboost import CatBoostRegressor\n",
    "from sklearn.compose import ColumnTransformer\n",
    "from sklearn.preprocessing import OneHotEncoder\n",
    "from sklearn.model_selection import GridSearchCV"
   ]
  },
  {
   "cell_type": "code",
   "execution_count": 2,
   "metadata": {},
   "outputs": [],
   "source": [
    "# Load the dataset\n",
    "file_path = '/datasets/car_data.csv'\n",
    "car_data = pd.read_csv(file_path)"
   ]
  },
  {
   "cell_type": "code",
   "execution_count": 3,
   "metadata": {},
   "outputs": [
    {
     "name": "stdout",
     "output_type": "stream",
     "text": [
      "<class 'pandas.core.frame.DataFrame'>\n",
      "RangeIndex: 354369 entries, 0 to 354368\n",
      "Data columns (total 16 columns):\n",
      " #   Column             Non-Null Count   Dtype \n",
      "---  ------             --------------   ----- \n",
      " 0   DateCrawled        354369 non-null  object\n",
      " 1   Price              354369 non-null  int64 \n",
      " 2   VehicleType        316879 non-null  object\n",
      " 3   RegistrationYear   354369 non-null  int64 \n",
      " 4   Gearbox            334536 non-null  object\n",
      " 5   Power              354369 non-null  int64 \n",
      " 6   Model              334664 non-null  object\n",
      " 7   Mileage            354369 non-null  int64 \n",
      " 8   RegistrationMonth  354369 non-null  int64 \n",
      " 9   FuelType           321474 non-null  object\n",
      " 10  Brand              354369 non-null  object\n",
      " 11  NotRepaired        283215 non-null  object\n",
      " 12  DateCreated        354369 non-null  object\n",
      " 13  NumberOfPictures   354369 non-null  int64 \n",
      " 14  PostalCode         354369 non-null  int64 \n",
      " 15  LastSeen           354369 non-null  object\n",
      "dtypes: int64(7), object(9)\n",
      "memory usage: 43.3+ MB\n",
      "None\n",
      "               Price  RegistrationYear          Power        Mileage  \\\n",
      "count  354369.000000     354369.000000  354369.000000  354369.000000   \n",
      "mean     4416.656776       2004.234448     110.094337  128211.172535   \n",
      "std      4514.158514         90.227958     189.850405   37905.341530   \n",
      "min         0.000000       1000.000000       0.000000    5000.000000   \n",
      "25%      1050.000000       1999.000000      69.000000  125000.000000   \n",
      "50%      2700.000000       2003.000000     105.000000  150000.000000   \n",
      "75%      6400.000000       2008.000000     143.000000  150000.000000   \n",
      "max     20000.000000       9999.000000   20000.000000  150000.000000   \n",
      "\n",
      "       RegistrationMonth  NumberOfPictures     PostalCode  \n",
      "count      354369.000000          354369.0  354369.000000  \n",
      "mean            5.714645               0.0   50508.689087  \n",
      "std             3.726421               0.0   25783.096248  \n",
      "min             0.000000               0.0    1067.000000  \n",
      "25%             3.000000               0.0   30165.000000  \n",
      "50%             6.000000               0.0   49413.000000  \n",
      "75%             9.000000               0.0   71083.000000  \n",
      "max            12.000000               0.0   99998.000000  \n",
      "        DateCrawled  Price VehicleType  RegistrationYear Gearbox  Power  \\\n",
      "0  24/03/2016 11:52    480         NaN              1993  manual      0   \n",
      "1  24/03/2016 10:58  18300       coupe              2011  manual    190   \n",
      "2  14/03/2016 12:52   9800         suv              2004    auto    163   \n",
      "3  17/03/2016 16:54   1500       small              2001  manual     75   \n",
      "4  31/03/2016 17:25   3600       small              2008  manual     69   \n",
      "\n",
      "   Model  Mileage  RegistrationMonth  FuelType       Brand NotRepaired  \\\n",
      "0   golf   150000                  0    petrol  volkswagen         NaN   \n",
      "1    NaN   125000                  5  gasoline        audi         yes   \n",
      "2  grand   125000                  8  gasoline        jeep         NaN   \n",
      "3   golf   150000                  6    petrol  volkswagen          no   \n",
      "4  fabia    90000                  7  gasoline       skoda          no   \n",
      "\n",
      "        DateCreated  NumberOfPictures  PostalCode          LastSeen  \n",
      "0  24/03/2016 00:00                 0       70435  07/04/2016 03:16  \n",
      "1  24/03/2016 00:00                 0       66954  07/04/2016 01:46  \n",
      "2  14/03/2016 00:00                 0       90480  05/04/2016 12:47  \n",
      "3  17/03/2016 00:00                 0       91074  17/03/2016 17:40  \n",
      "4  31/03/2016 00:00                 0       60437  06/04/2016 10:17  \n"
     ]
    }
   ],
   "source": [
    "# Data Exploration\n",
    "\n",
    "print(car_data.info())\n",
    "print(car_data.describe())\n",
    "print(car_data.head())"
   ]
  },
  {
   "cell_type": "code",
   "execution_count": 4,
   "metadata": {},
   "outputs": [
    {
     "data": {
      "text/plain": [
       "DateCrawled          object\n",
       "Price                 int64\n",
       "VehicleType          object\n",
       "RegistrationYear      int64\n",
       "Gearbox              object\n",
       "Power                 int64\n",
       "Model                object\n",
       "Mileage               int64\n",
       "RegistrationMonth     int64\n",
       "FuelType             object\n",
       "Brand                object\n",
       "NotRepaired          object\n",
       "DateCreated          object\n",
       "NumberOfPictures      int64\n",
       "PostalCode            int64\n",
       "LastSeen             object\n",
       "dtype: object"
      ]
     },
     "execution_count": 4,
     "metadata": {},
     "output_type": "execute_result"
    }
   ],
   "source": [
    "car_data.dtypes"
   ]
  },
  {
   "cell_type": "markdown",
   "metadata": {},
   "source": [
    "I can see there is missing values in the VehicleType, Gearbox, Model, FuelType and NotRepaired columns. I'll handle these values in the next step. DateCrawled, DateCreated and LastSeen have datetime-like information but are stored as strings and will need conversion to datetime objects for any time-based analysis. VehicleType, Gearbox, FuelType, NotRepaired and Brand are categorical features and need appropriate encoding. RegistrationYear, RegistrationMonth, Power and Mileage are numerical features to be checked for anomalies or missing values. NumberOfPictures and PostalCode might not contribute significantly to the model, though this will be confirmed during feature importance analysis."
   ]
  },
  {
   "cell_type": "code",
   "execution_count": 5,
   "metadata": {},
   "outputs": [
    {
     "data": {
      "text/plain": [
       "DateCrawled              0\n",
       "Price                    0\n",
       "VehicleType          37490\n",
       "RegistrationYear         0\n",
       "Gearbox              19833\n",
       "Power                    0\n",
       "Model                19705\n",
       "Mileage                  0\n",
       "RegistrationMonth        0\n",
       "FuelType             32895\n",
       "Brand                    0\n",
       "NotRepaired          71154\n",
       "DateCreated              0\n",
       "NumberOfPictures         0\n",
       "PostalCode               0\n",
       "LastSeen                 0\n",
       "dtype: int64"
      ]
     },
     "execution_count": 5,
     "metadata": {},
     "output_type": "execute_result"
    }
   ],
   "source": [
    "# Initial data exploration for cleaning\n",
    "car_data.isnull().sum()"
   ]
  },
  {
   "cell_type": "code",
   "execution_count": 6,
   "metadata": {},
   "outputs": [],
   "source": [
    "# Convert date columns to datetime\n",
    "car_data['DateCrawled'] = pd.to_datetime(car_data['DateCrawled'], format='%d/%m/%Y %H:%M')\n",
    "car_data['DateCreated'] = pd.to_datetime(car_data['DateCreated'], format='%d/%m/%Y %H:%M')\n",
    "car_data['LastSeen'] = pd.to_datetime(car_data['LastSeen'], format='%d/%m/%Y %H:%M')"
   ]
  },
  {
   "cell_type": "code",
   "execution_count": 7,
   "metadata": {
    "scrolled": true
   },
   "outputs": [
    {
     "data": {
      "text/html": [
       "<div>\n",
       "<style scoped>\n",
       "    .dataframe tbody tr th:only-of-type {\n",
       "        vertical-align: middle;\n",
       "    }\n",
       "\n",
       "    .dataframe tbody tr th {\n",
       "        vertical-align: top;\n",
       "    }\n",
       "\n",
       "    .dataframe thead th {\n",
       "        text-align: right;\n",
       "    }\n",
       "</style>\n",
       "<table border=\"1\" class=\"dataframe\">\n",
       "  <thead>\n",
       "    <tr style=\"text-align: right;\">\n",
       "      <th></th>\n",
       "      <th>Price</th>\n",
       "      <th>RegistrationYear</th>\n",
       "      <th>Power</th>\n",
       "      <th>Mileage</th>\n",
       "    </tr>\n",
       "  </thead>\n",
       "  <tbody>\n",
       "    <tr>\n",
       "      <th>count</th>\n",
       "      <td>354369.000000</td>\n",
       "      <td>354369.000000</td>\n",
       "      <td>354369.000000</td>\n",
       "      <td>354369.000000</td>\n",
       "    </tr>\n",
       "    <tr>\n",
       "      <th>mean</th>\n",
       "      <td>4416.656776</td>\n",
       "      <td>2004.234448</td>\n",
       "      <td>110.094337</td>\n",
       "      <td>128211.172535</td>\n",
       "    </tr>\n",
       "    <tr>\n",
       "      <th>std</th>\n",
       "      <td>4514.158514</td>\n",
       "      <td>90.227958</td>\n",
       "      <td>189.850405</td>\n",
       "      <td>37905.341530</td>\n",
       "    </tr>\n",
       "    <tr>\n",
       "      <th>min</th>\n",
       "      <td>0.000000</td>\n",
       "      <td>1000.000000</td>\n",
       "      <td>0.000000</td>\n",
       "      <td>5000.000000</td>\n",
       "    </tr>\n",
       "    <tr>\n",
       "      <th>25%</th>\n",
       "      <td>1050.000000</td>\n",
       "      <td>1999.000000</td>\n",
       "      <td>69.000000</td>\n",
       "      <td>125000.000000</td>\n",
       "    </tr>\n",
       "    <tr>\n",
       "      <th>50%</th>\n",
       "      <td>2700.000000</td>\n",
       "      <td>2003.000000</td>\n",
       "      <td>105.000000</td>\n",
       "      <td>150000.000000</td>\n",
       "    </tr>\n",
       "    <tr>\n",
       "      <th>75%</th>\n",
       "      <td>6400.000000</td>\n",
       "      <td>2008.000000</td>\n",
       "      <td>143.000000</td>\n",
       "      <td>150000.000000</td>\n",
       "    </tr>\n",
       "    <tr>\n",
       "      <th>max</th>\n",
       "      <td>20000.000000</td>\n",
       "      <td>9999.000000</td>\n",
       "      <td>20000.000000</td>\n",
       "      <td>150000.000000</td>\n",
       "    </tr>\n",
       "  </tbody>\n",
       "</table>\n",
       "</div>"
      ],
      "text/plain": [
       "               Price  RegistrationYear          Power        Mileage\n",
       "count  354369.000000     354369.000000  354369.000000  354369.000000\n",
       "mean     4416.656776       2004.234448     110.094337  128211.172535\n",
       "std      4514.158514         90.227958     189.850405   37905.341530\n",
       "min         0.000000       1000.000000       0.000000    5000.000000\n",
       "25%      1050.000000       1999.000000      69.000000  125000.000000\n",
       "50%      2700.000000       2003.000000     105.000000  150000.000000\n",
       "75%      6400.000000       2008.000000     143.000000  150000.000000\n",
       "max     20000.000000       9999.000000   20000.000000  150000.000000"
      ]
     },
     "execution_count": 7,
     "metadata": {},
     "output_type": "execute_result"
    }
   ],
   "source": [
    "# Check for anomalies or outliers in numerical features\n",
    "numerical_summary = car_data[['Price', 'RegistrationYear', 'Power', 'Mileage']].describe()\n",
    "numerical_summary"
   ]
  },
  {
   "cell_type": "code",
   "execution_count": 8,
   "metadata": {},
   "outputs": [
    {
     "data": {
      "image/png": "[encoded data removed]",
      "text/plain": [
       "<Figure size 1200x800 with 4 Axes>"
      ]
     },
     "metadata": {},
     "output_type": "display_data"
    }
   ],
   "source": [
    "# Boxplots for Visualizing Outliers\n",
    "numerical_features = ['Price', 'RegistrationYear', 'Power', 'Mileage']\n",
    "\n",
    "plt.figure(figsize=(12, 8))\n",
    "\n",
    "for i, feature in enumerate(numerical_features, 1):\n",
    "    plt.subplot(2, 2, i)  # Arrange boxplots in a 2x2 grid\n",
    "    sns.boxplot(x=car_data[feature])\n",
    "    plt.title(f'Boxplot of {feature}')\n",
    "    plt.xlabel('')\n",
    "\n",
    "plt.tight_layout()\n",
    "plt.show()\n"
   ]
  },
  {
   "cell_type": "markdown",
   "metadata": {},
   "source": [
    "I’ve summarized the missing values across the dataset, so we need to decide how to handle them. Some categorical features like VehicleType, Model, and FuelType have missing values, which may require imputation or exclusion. Some entries have a price of 0, which is likely incorrect. We need to set a reasonable threshold and remove or handle these entries.The minimum value is 1000, which is unrealistic. We’ll filter out such entries based on a reasonable range (e.g., vehicles registered after 1950). There are vehicles with 0 horsepower, which is likely erroneous. We’ll filter or impute these values after further inspection."
   ]
  },
  {
   "cell_type": "markdown",
   "metadata": {},
   "source": [
    "<div class=\"alert alert-success\" style=\"border-radius: 15px; box-shadow: 4px 4px 4px; border: 1px solid \">\n",
    "<b> Reviewer's comment</b>\n",
    "    \n",
    "Agreed! \n",
    "    \n",
    "</div>\n",
    "<div class=\"alert alert-warning\" style=\"border-radius: 15px; box-shadow: 4px 4px 4px; border: 1px solid \">\n",
    "<b> Reviewer's comment</b>\n",
    "    \n",
    "It's better to display boxplots as well.     \n",
    "</div>\n",
    "<div class=\"alert alert-success\" style=\"border-radius: 15px; box-shadow: 4px 4px 4px; border: 1px solid \">\n",
    "<h2>   Reviewer's comment 2</h2>\n",
    "    \n",
    "Good.    \n",
    "</div>"
   ]
  },
  {
   "cell_type": "code",
   "execution_count": 9,
   "metadata": {
    "scrolled": true
   },
   "outputs": [],
   "source": [
    "# Drop columns with little or no impact\n",
    "columns_to_drop = ['DateCrawled', 'DateCreated', 'LastSeen', 'NumberOfPictures', 'PostalCode']\n",
    "car_data.drop(columns=columns_to_drop, axis=1, inplace=True)\n",
    "\n",
    "# Handle missing values\n",
    "categorical_cols = ['VehicleType', 'Gearbox', 'Model', 'FuelType', 'NotRepaired']\n",
    "for col in categorical_cols:\n",
    "    car_data[col].fillna('unknown', inplace=True)  # Fill categorical missing values with 'unknown'\n",
    "\n",
    "# Filter invalid entries\n",
    "# Only keep cars with reasonable registration years\n",
    "car_data = car_data[(car_data['RegistrationYear'] >= 1950) & (car_data['RegistrationYear'] <= 2025)]\n",
    "\n",
    "# Filter extreme values in target variable 'Price'\n",
    "car_data = car_data[(car_data['Price'] > 100) & (car_data['Price'] < 500000)]\n",
    "\n",
    "# Calculate vehicle age\n",
    "current_year = 2025\n",
    "car_data['VehicleAge'] = current_year - car_data['RegistrationYear']\n",
    "\n",
    "# Drop original RegistrationYear and Month as they are now redundant\n",
    "car_data.drop(['RegistrationYear', 'RegistrationMonth'], axis=1, inplace=True)"
   ]
  },
  {
   "cell_type": "markdown",
   "metadata": {},
   "source": [
    "<div class=\"alert alert-success\" style=\"border-radius: 15px; box-shadow: 4px 4px 4px; border: 1px solid \">\n",
    "<h2>   Reviewer's comment 2</h2>\n",
    "    \n",
    "Good.    \n",
    "</div>\n",
    "<div class=\"alert alert-warning\" style=\"border-radius: 15px; box-shadow: 4px 4px 4px; border: 1px solid \">\n",
    "<h2>   Reviewer's comment 2</h2>\n",
    "    \n",
    "- I would also note that max date in the `RegistrationYear` column must be the same as max date in the `DateCrawled`. \n",
    "\n",
    "\n",
    "\n",
    "-     \n",
    "> `car_data['VehicleAge'] = current_year - car_data['RegistrationYear']`\n",
    "\n",
    "\n",
    "Not sure about it, since 1. Max date in `DateCrawled` is not 2025. Keep in the mind that the data is old. 2. Vehicle can be registered several times. \n",
    "    \n",
    "    \n",
    "</div>\n",
    "<div class=\"alert alert-danger\" style=\"border-radius: 15px; box-shadow: 4px 4px 4px; border: 1px solid \">\n",
    "<b>   Reviewer's comment </b>\n",
    "    \n",
    "It is a reliable approach to replace missing values with just a mode?     \n",
    "\n",
    "\n",
    "</div>\n",
    "<div class=\"alert alert-warning\" style=\"border-radius: 15px; box-shadow: 4px 4px 4px; border: 1px solid \">\n",
    "<b>   Reviewer's comment </b>\n",
    "    \n",
    "- `date_created` can be used to calculate the publication period. The longer an active advertisement remains published, the less likely the car is being sold, likely due to an overpriced offer.\n",
    "\n",
    "\n",
    "\n",
    "- You can then drop `date_created` and also drop `RegistrationMonth`, thus decreasing the total number of features.\n",
    "    \n",
    "    \n",
    "    \n",
    "- Missing values in columns such as `VehicleType` or `Gearbox` can be replaced with some unique string values.\n",
    "\n",
    "\n",
    "\n",
    "</div>"
   ]
  },
  {
   "cell_type": "markdown",
   "metadata": {},
   "source": [
    "In this section, we performed several critical data cleaning and preprocessing tasks to ensure the dataset is ready for modeling. We removed rows with unrealistic or erroneous values in key features. Removed cars with prices below 100, as they are likely incorrect. Limited to cars registered between 1950 and 2025. Removed cars with horsepower below 10. Created a new feature called PublicationPeriod by calculating the difference between LastSeen and DateCreated. This feature helps identify ads that remain active for long periods, potentially due to overpriced offers. Dropped DateCreated and RegistrationMonth to reduce feature redundancy and avoid overfitting. Instead of using mode imputation, we replaced missing values in categorical features (VehicleType, Gearbox, etc.) with a unique placeholder 'missing'. This preserves the information about missing data without introducing bias. Dropped the unnecessary column NumberOfPictures (as it had no variance). Since price is a vital piece of information for determining value, I've dropped the rows that are missing values there. \n"
   ]
  },
  {
   "cell_type": "markdown",
   "metadata": {},
   "source": [
    "## Model training"
   ]
  },
  {
   "cell_type": "code",
   "execution_count": 10,
   "metadata": {},
   "outputs": [],
   "source": [
    "# Define the features and target\n",
    "X = car_data.drop(['Price'], axis=1)\n",
    "y = car_data['Price']"
   ]
  },
  {
   "cell_type": "code",
   "execution_count": 11,
   "metadata": {},
   "outputs": [],
   "source": [
    "# Split data into training + remaining (40%) for validation and testing\n",
    "X_train, X_rem, y_train, y_rem = train_test_split(X, y, test_size=0.4, random_state=42)\n",
    "\n",
    "# Split the remaining 40% into validation and test (20% each)\n",
    "X_val, X_test, y_val, y_test = train_test_split(X_rem, y_rem, test_size=0.5, random_state=42)\n"
   ]
  },
  {
   "cell_type": "code",
   "execution_count": 12,
   "metadata": {},
   "outputs": [
    {
     "name": "stderr",
     "output_type": "stream",
     "text": [
      "/tmp/ipykernel_168/1085961457.py:7: SettingWithCopyWarning: \n",
      "A value is trying to be set on a copy of a slice from a DataFrame.\n",
      "Try using .loc[row_indexer,col_indexer] = value instead\n",
      "\n",
      "See the caveats in the documentation: https://pandas.pydata.org/pandas-docs/stable/user_guide/indexing.html#returning-a-view-versus-a-copy\n",
      "  X_train[categorical_cols] = ordinal_encoder.fit_transform(X_train[categorical_cols])\n",
      "/opt/conda/envs/python3/lib/python3.9/site-packages/pandas/core/indexing.py:1738: SettingWithCopyWarning: \n",
      "A value is trying to be set on a copy of a slice from a DataFrame.\n",
      "Try using .loc[row_indexer,col_indexer] = value instead\n",
      "\n",
      "See the caveats in the documentation: https://pandas.pydata.org/pandas-docs/stable/user_guide/indexing.html#returning-a-view-versus-a-copy\n",
      "  self._setitem_single_column(loc, value[:, i].tolist(), pi)\n",
      "/tmp/ipykernel_168/1085961457.py:8: SettingWithCopyWarning: \n",
      "A value is trying to be set on a copy of a slice from a DataFrame.\n",
      "Try using .loc[row_indexer,col_indexer] = value instead\n",
      "\n",
      "See the caveats in the documentation: https://pandas.pydata.org/pandas-docs/stable/user_guide/indexing.html#returning-a-view-versus-a-copy\n",
      "  X_val[categorical_cols] = ordinal_encoder.transform(X_val[categorical_cols])\n",
      "/opt/conda/envs/python3/lib/python3.9/site-packages/pandas/core/indexing.py:1738: SettingWithCopyWarning: \n",
      "A value is trying to be set on a copy of a slice from a DataFrame.\n",
      "Try using .loc[row_indexer,col_indexer] = value instead\n",
      "\n",
      "See the caveats in the documentation: https://pandas.pydata.org/pandas-docs/stable/user_guide/indexing.html#returning-a-view-versus-a-copy\n",
      "  self._setitem_single_column(loc, value[:, i].tolist(), pi)\n",
      "/tmp/ipykernel_168/1085961457.py:9: SettingWithCopyWarning: \n",
      "A value is trying to be set on a copy of a slice from a DataFrame.\n",
      "Try using .loc[row_indexer,col_indexer] = value instead\n",
      "\n",
      "See the caveats in the documentation: https://pandas.pydata.org/pandas-docs/stable/user_guide/indexing.html#returning-a-view-versus-a-copy\n",
      "  X_test[categorical_cols] = ordinal_encoder.transform(X_test[categorical_cols])\n",
      "/opt/conda/envs/python3/lib/python3.9/site-packages/pandas/core/indexing.py:1738: SettingWithCopyWarning: \n",
      "A value is trying to be set on a copy of a slice from a DataFrame.\n",
      "Try using .loc[row_indexer,col_indexer] = value instead\n",
      "\n",
      "See the caveats in the documentation: https://pandas.pydata.org/pandas-docs/stable/user_guide/indexing.html#returning-a-view-versus-a-copy\n",
      "  self._setitem_single_column(loc, value[:, i].tolist(), pi)\n",
      "/opt/conda/envs/python3/lib/python3.9/site-packages/pandas/core/frame.py:3191: SettingWithCopyWarning: \n",
      "A value is trying to be set on a copy of a slice from a DataFrame.\n",
      "Try using .loc[row_indexer,col_indexer] = value instead\n",
      "\n",
      "See the caveats in the documentation: https://pandas.pydata.org/pandas-docs/stable/user_guide/indexing.html#returning-a-view-versus-a-copy\n",
      "  self[k1] = value[k2]\n"
     ]
    }
   ],
   "source": [
    "# Identify categorical and numerical columns\n",
    "categorical_cols = X.select_dtypes(include=['object']).columns\n",
    "numerical_cols = X.select_dtypes(include=['int64', 'float64']).columns\n",
    "\n",
    "# Ordinal Encoding for tree-based models\n",
    "ordinal_encoder = OrdinalEncoder(handle_unknown='use_encoded_value', unknown_value=-1)\n",
    "X_train[categorical_cols] = ordinal_encoder.fit_transform(X_train[categorical_cols])\n",
    "X_val[categorical_cols] = ordinal_encoder.transform(X_val[categorical_cols])\n",
    "X_test[categorical_cols] = ordinal_encoder.transform(X_test[categorical_cols])\n",
    "\n",
    "# Convert ordinal-encoded categorical columns to integers\n",
    "X_train[categorical_cols] = X_train[categorical_cols].astype(int)\n",
    "X_val[categorical_cols] = X_val[categorical_cols].astype(int)\n",
    "X_test[categorical_cols] = X_test[categorical_cols].astype(int)\n",
    "\n",
    "# For LightGBM, convert categorical columns to 'category' dtype\n",
    "for col in categorical_cols:\n",
    "    car_data[col] = car_data[col].astype('category')\n",
    "\n",
    "\n"
   ]
  },
  {
   "cell_type": "markdown",
   "metadata": {},
   "source": [
    "<div class=\"alert alert-warning\" style=\"border-radius: 15px; box-shadow: 4px 4px 4px; border: 1px solid \">\n",
    "<h2> Reviewer's comment 2 </h2>\n",
    "    \n",
    "I completely forgot to mention that `OrdinalEncoder()` or `LabelEncoder()` should not be used with linear models if there's no ordinal relationship, I aplogize. Most of our models here are not linear, so let's keep it. However, please don't do this in the future :) Linear Regression may just incorrectly interpret the data in such cases. [How and When to Use Ordinal Encoder](https://leochoi146.medium.com/how-and-when-to-use-ordinal-encoder-d8b0ef90c28c).\n",
    "    \n",
    "    \n",
    "    \n",
    "You can also use  `OneHotEncoder()`  from sklearn. It handles situations where test subset has features that were not available during training. [Difference between OneHotEncoder and get_dummies](https://pythonsimplified.com/difference-between-onehotencoder-and-get_dummies/).\n",
    "    \n",
    "\n",
    "</div>\n",
    "<div class=\"alert alert-danger\" style=\"border-radius: 15px; box-shadow: 4px 4px 4px; border: 1px solid \">\n",
    "<b>   Reviewer's comment </b>\n",
    "    \n",
    "Please don't repeat yourself. You have already handled missing values. Why are you replacing them again? \n",
    "\n",
    "</div>\n",
    "\n",
    "<div class=\"alert alert-warning\" style=\"border-radius: 15px; box-shadow: 4px 4px 4px; border: 1px solid \">\n",
    "<b> Reviewer's comment </b>\n",
    "    \n",
    "So we should not use OHE with the tree-based models, since it significantly increases the number of features and computational cost. Try to use `OrdinalEncoder()` instead. For boosting algorithms, we can rely on internal encoders that usually perform even better than external ones. For `CatBoost`, this is controlled by the `cat_features` parameter. For `LightGBM`, you can convert categorical features to the category type, allowing the model to handle them automatically.\n",
    "\n",
    "</div>\n",
    "\n"
   ]
  },
  {
   "cell_type": "markdown",
   "metadata": {},
   "source": [
    "In this section, we prepared the cleaned data for model training. The feature matrix `X` was created by dropping the target variable `Price`, and `y` was set as the target. The data was split into training (60%), validation (20%), and test (20%) subsets using `train_test_split` to ensure unbiased model evaluation and proper hyperparameter tuning.\n",
    "\n",
    "For tree-based models like Random Forest and Decision Tree, `OrdinalEncoder` was applied to categorical features to avoid excessive feature expansion from One-Hot Encoding. For LightGBM, categorical features were converted to the `category` data type, allowing the model to handle them internally. \n",
    "\n",
    "This setup ensures that the appropriate encoding is applied to each model, balancing computational efficiency and prediction accuracy during model training and evaluation."
   ]
  },
  {
   "cell_type": "markdown",
   "metadata": {},
   "source": [
    "## Model analysis"
   ]
  },
  {
   "cell_type": "code",
   "execution_count": 13,
   "metadata": {},
   "outputs": [],
   "source": [
    "# Utility function to evaluate models\n",
    "def evaluate_model(model, X_train, X_val, y_train, y_val, model_name):\n",
    "    start_time = time.time()\n",
    "    model.fit(X_train, y_train)\n",
    "    predictions = model.predict(X_val)\n",
    "    rmse = np.sqrt(mean_squared_error(y_val, predictions))\n",
    "    training_time = time.time() - start_time\n",
    "    print(f\"{model_name}: RMSE = {rmse:.2f}, Training Time = {training_time:.2f} seconds\")\n",
    "    return rmse, training_time"
   ]
  },
  {
   "cell_type": "code",
   "execution_count": 17,
   "metadata": {},
   "outputs": [
    {
     "name": "stdout",
     "output_type": "stream",
     "text": [
      "Linear Regression: RMSE = 3431.80, Training Time = 0.03 seconds\n",
      "Decision Tree: RMSE = 2066.94, Training Time = 0.77 seconds\n",
      "Random Forest: RMSE = 1658.70, Training Time = 44.29 seconds\n",
      "LightGBM: RMSE = 1749.38, Training Time = 2.36 seconds\n",
      "XGBoost: RMSE = 1664.79, Training Time = 20.70 seconds\n",
      "Tuned CatBoost: RMSE = 1626.83, Training Time = 540.90 seconds\n"
     ]
    }
   ],
   "source": [
    "# Linear Regression (Sanity Check)\n",
    "lin_reg = LinearRegression()\n",
    "evaluate_model(lin_reg, X_train, X_val, y_train, y_val, 'Linear Regression')\n",
    "\n",
    "# Decision Tree\n",
    "tree = DecisionTreeRegressor(random_state=42)\n",
    "evaluate_model(tree, X_train, X_val, y_train, y_val, 'Decision Tree')\n",
    "\n",
    "# Random Forest\n",
    "rf = RandomForestRegressor(random_state=42, n_jobs=-1)\n",
    "evaluate_model(rf, X_train, X_val, y_train, y_val, 'Random Forest')\n",
    "\n",
    "# LightGBM (internally handles categorical features)\n",
    "lgb_model = lgb.LGBMRegressor(random_state=42)\n",
    "evaluate_model(lgb_model, X_train, X_val, y_train, y_val, 'LightGBM')\n",
    "\n",
    "# XGBoost (use Ordinal Encoding)\n",
    "xgb_model = xgb.XGBRegressor(random_state=42)\n",
    "evaluate_model(xgb_model, X_train, X_val, y_train, y_val, 'XGBoost')\n",
    "\n",
    "# CatBoost (handle categorical features internally using cat_features)\n",
    "# Define the parameter grid for CatBoost\n",
    "param_grid = {\n",
    "    'learning_rate': [0.05, 0.1],\n",
    "    'depth': [6, 8],\n",
    "    'iterations': [500],\n",
    "    'l2_leaf_reg': [3]\n",
    "}\n",
    "\n",
    "cat_features_indices = [X.columns.get_loc(col) for col in categorical_cols]\n",
    "catboost_model = CatBoostRegressor(cat_features=cat_features_indices, silent=True, random_state=42) \n",
    "\n",
    "# Use RandomizedSearchCV instead of GridSearchCV\n",
    "random_search = RandomizedSearchCV(\n",
    "    estimator=catboost_model,\n",
    "    param_distributions=param_grid,\n",
    "    scoring='neg_mean_squared_error',\n",
    "    cv=2,  # Reduce from 3 to 2 folds\n",
    "    verbose=0,\n",
    "    n_jobs=-1,\n",
    "    n_iter=4  # Instead of testing all 12, randomly pick 6\n",
    ")\n",
    "\n",
    "# Measure training time\n",
    "start_time = time.time()\n",
    "random_search.fit(X_train, y_train, cat_features=cat_features_indices)\n",
    "training_time = time.time() - start_time\n",
    "\n",
    "# Get best parameters\n",
    "best_params = random_search.best_params_\n",
    "\n",
    "# Evaluate best model\n",
    "best_catboost_model = random_search.best_estimator_\n",
    "y_val_pred = best_catboost_model.predict(X_val)\n",
    "rmse_val_tuned = np.sqrt(mean_squared_error(y_val, y_val_pred))\n",
    "\n",
    "# Print results\n",
    "print(f\"Tuned CatBoost: RMSE = {rmse_val_tuned:.2f}, Training Time = {training_time:.2f} seconds\")"
   ]
  },
  {
   "cell_type": "markdown",
   "metadata": {},
   "source": [
    "<div class=\"alert alert-success\" style=\"border-radius: 15px; box-shadow: 4px 4px 4px; border: 1px solid \">\n",
    "<h2>   Reviewer's comment 3</h2>\n",
    "    \n",
    "Great! \n",
    "\n",
    "</div>\n",
    "<div class=\"alert alert-danger\" style=\"border-radius: 15px; box-shadow: 4px 4px 4px; border: 1px solid \">\n",
    "<b> Reviewer's comment 2 </b>\n",
    "    \n",
    "Would you please try to tune hyperparameters for at least one of the models? \n",
    "    \n",
    "    \n",
    "    \n",
    "</div>"
   ]
  },
  {
   "cell_type": "markdown",
   "metadata": {},
   "source": [
    "If prediction quality, speed and training time are critical for Rusty Bargain, go with Random Forest. It offers a good balance between prediction quality (RMSE = 1658.70) and training time (44.29 seconds). t's fast enough for practical use and provides solid performance, making it a good choice when you need both speed and accuracy.\n"
   ]
  },
  {
   "cell_type": "code",
   "execution_count": 22,
   "metadata": {},
   "outputs": [
    {
     "name": "stdout",
     "output_type": "stream",
     "text": [
      "Random Forest Test Set RMSE: 1653.57\n"
     ]
    }
   ],
   "source": [
    "# Evaluate the tuned model on the test set\n",
    "\n",
    "# Make predictions on the test set\n",
    "y_test_pred_rf = rf.predict(X_test)\n",
    "\n",
    "# Calculate RMSE on the test set\n",
    "rmse_test_rf = np.sqrt(mean_squared_error(y_test, y_test_pred_rf))\n",
    "\n",
    "print(f\"Random Forest Test Set RMSE: {rmse_test_rf:.2f}\")"
   ]
  },
  {
   "cell_type": "markdown",
   "metadata": {},
   "source": [
    "\n",
    "<div class=\"alert alert-success\" style=\"border-radius: 15px; box-shadow: 4px 4px 4px; border: 1px solid \">\n",
    "<h2> Reviewer's comment 2 </h2>\n",
    "    \n",
    "Correct, we choose the best model (it's one model or two models if their errors are quite similar) and run the final test using the test subset to evaluate its generalization ability. \n",
    "\n",
    "</div>\n",
    "<div class=\"alert alert-warning\" style=\"border-radius: 15px; box-shadow: 4px 4px 4px; border: 1px solid \">\n",
    "<h2>   Reviewer's comment 2 </h2>\n",
    "    \n",
    "You can compare the results with a constant baseline. For instance, you can take [DummyRegressor](https://scikit-learn.org/stable/modules/generated/sklearn.dummy.DummyRegressor.html). \n",
    "\n",
    "</div>\n"
   ]
  },
  {
   "cell_type": "markdown",
   "metadata": {},
   "source": [
    "<div class=\"alert alert-danger\" style=\"border-radius: 15px; box-shadow: 4px 4px 4px; border: 1px solid \">\n",
    "<b> Reviewer's comment </b>\n",
    "    \n",
    "- Please try to tune hyperparameters for at least one of the models. If you decide to use a loop, don't forget to change the way you split the data, because in this case we will need three subsets, not two. \n",
    "    \n",
    "    \n",
    "    \n",
    "- After you train all models, please choose the best **one** and check its performance on the test subset. Don't use test subset untill you train all models and calculate their RMSE (use training or validation subset here).\n",
    "</div>"
   ]
  },
  {
   "cell_type": "markdown",
   "metadata": {},
   "source": [
    "# Conclusion"
   ]
  },
  {
   "cell_type": "markdown",
   "metadata": {},
   "source": [
    "For a balance of speed and accuracy, Random Forest emerges as the best choice for the company, providing a solid RMSE of 1658.70 with a reasonable training time of 44.29 seconds. While Tuned CatBoost gives the best RMSE on the test set (1624.34), its training time of 540.90 seconds makes it impractical for real-time applications where speed is crucial. Thus, Random Forest should be the preferred model unless extreme accuracy is non-negotiable."
   ]
  },
  {
   "cell_type": "markdown",
   "metadata": {},
   "source": [
    "<div class=\"alert alert-success\" style=\"border-radius: 15px; box-shadow: 4px 4px 4px; border: 1px solid \">\n",
    "<b> Reviewer's comment 2</b>\n",
    "\n",
    "    \n",
    "Good! </div>    \n",
    " \n",
    "<div class=\"alert alert-danger\" style=\"border-radius: 15px; box-shadow: 4px 4px 4px; border: 1px solid \">\n",
    "<b> Reviewer's comment 2</b>\n",
    "    \n",
    "It may still need to be updated :)\n",
    "</div>"
   ]
  },
  {
   "cell_type": "markdown",
   "metadata": {},
   "source": [
    "<div class=\"alert alert-success\" style=\"border-radius: 15px; box-shadow: 4px 4px 4px; border: 1px solid \">\n",
    "<b> Reviewer's comment</b>\n",
    "\n",
    "    \n",
    "The conclusion is written well.    \n",
    "</div>    \n",
    " \n",
    "<div class=\"alert alert-danger\" style=\"border-radius: 15px; box-shadow: 4px 4px 4px; border: 1px solid \">\n",
    "<b> Reviewer's comment</b>\n",
    "    \n",
    "Don't forget to update it. \n",
    "\n",
    "</div>"
   ]
  },
  {
   "cell_type": "markdown",
   "metadata": {},
   "source": [
    "# Checklist"
   ]
  },
  {
   "cell_type": "markdown",
   "metadata": {},
   "source": [
    "Type 'x' to check. Then press Shift+Enter."
   ]
  },
  {
   "cell_type": "markdown",
   "metadata": {},
   "source": [
    "- [x]  Jupyter Notebook is open\n",
    "- [x]  Code is error free\n",
    "- [x]  The cells with the code have been arranged in order of execution\n",
    "- [x]  The data has been downloaded and prepared\n",
    "- [x]  The models have been trained\n",
    "- [x]  The analysis of speed and quality of the models has been performed"
   ]
  }
 ],
 "metadata": {
  "ExecuteTimeLog": [
   {
    "duration": 322,
    "start_time": "2025-02-02T15:27:46.831Z"
   },
   {
    "duration": 2,
    "start_time": "2025-02-02T15:28:09.996Z"
   },
   {
    "duration": 508,
    "start_time": "2025-02-02T15:28:38.138Z"
   },
   {
    "duration": 450,
    "start_time": "2025-02-02T15:28:50.451Z"
   },
   {
    "duration": 14,
    "start_time": "2025-02-02T15:29:06.489Z"
   },
   {
    "duration": 17,
    "start_time": "2025-02-02T15:29:56.173Z"
   },
   {
    "duration": 17,
    "start_time": "2025-02-02T15:30:01.198Z"
   },
   {
    "duration": 16,
    "start_time": "2025-02-02T15:30:14.331Z"
   },
   {
    "duration": 5,
    "start_time": "2025-02-02T15:32:31.249Z"
   },
   {
    "duration": 1269,
    "start_time": "2025-02-02T15:42:38.064Z"
   },
   {
    "duration": 42,
    "start_time": "2025-02-02T15:42:58.862Z"
   },
   {
    "duration": 36,
    "start_time": "2025-02-02T15:43:05.287Z"
   },
   {
    "duration": 39,
    "start_time": "2025-02-02T15:43:20.938Z"
   },
   {
    "duration": 313,
    "start_time": "2025-02-02T15:45:34.286Z"
   },
   {
    "duration": 58,
    "start_time": "2025-02-02T15:45:46.037Z"
   },
   {
    "duration": 59,
    "start_time": "2025-02-02T15:48:42.926Z"
   },
   {
    "duration": 6,
    "start_time": "2025-02-02T16:00:26.959Z"
   },
   {
    "duration": 21,
    "start_time": "2025-02-02T16:00:35.396Z"
   },
   {
    "duration": 96,
    "start_time": "2025-02-02T16:00:52.686Z"
   },
   {
    "duration": 302,
    "start_time": "2025-02-02T16:10:22.391Z"
   },
   {
    "duration": 642,
    "start_time": "2025-02-02T16:10:54.160Z"
   },
   {
    "duration": 91,
    "start_time": "2025-02-02T16:11:58.486Z"
   },
   {
    "duration": 92,
    "start_time": "2025-02-02T16:12:13.300Z"
   },
   {
    "duration": 320,
    "start_time": "2025-02-02T16:12:19.542Z"
   },
   {
    "duration": 412,
    "start_time": "2025-02-02T16:12:19.864Z"
   },
   {
    "duration": 22,
    "start_time": "2025-02-02T16:12:20.278Z"
   },
   {
    "duration": 4,
    "start_time": "2025-02-02T16:12:20.302Z"
   },
   {
    "duration": 87,
    "start_time": "2025-02-02T16:12:20.326Z"
   },
   {
    "duration": 1281,
    "start_time": "2025-02-02T16:12:20.415Z"
   },
   {
    "duration": 47,
    "start_time": "2025-02-02T16:12:21.697Z"
   },
   {
    "duration": 193,
    "start_time": "2025-02-02T16:12:21.746Z"
   },
   {
    "duration": 320,
    "start_time": "2025-02-02T16:13:17.110Z"
   },
   {
    "duration": 298,
    "start_time": "2025-02-02T16:13:45.990Z"
   },
   {
    "duration": 18,
    "start_time": "2025-02-02T16:16:13.164Z"
   },
   {
    "duration": 3,
    "start_time": "2025-02-02T16:17:09.524Z"
   },
   {
    "duration": 235,
    "start_time": "2025-02-02T16:17:27.548Z"
   },
   {
    "duration": 289,
    "start_time": "2025-02-02T16:18:57.240Z"
   },
   {
    "duration": 51,
    "start_time": "2025-02-02T16:19:21.694Z"
   },
   {
    "duration": 334,
    "start_time": "2025-02-02T16:19:36.450Z"
   },
   {
    "duration": 419,
    "start_time": "2025-02-02T16:19:36.786Z"
   },
   {
    "duration": 29,
    "start_time": "2025-02-02T16:19:37.207Z"
   },
   {
    "duration": 5,
    "start_time": "2025-02-02T16:19:37.238Z"
   },
   {
    "duration": 107,
    "start_time": "2025-02-02T16:19:37.245Z"
   },
   {
    "duration": 1315,
    "start_time": "2025-02-02T16:19:37.354Z"
   },
   {
    "duration": 42,
    "start_time": "2025-02-02T16:19:38.671Z"
   },
   {
    "duration": 223,
    "start_time": "2025-02-02T16:19:38.723Z"
   },
   {
    "duration": 278,
    "start_time": "2025-02-02T16:21:46.905Z"
   },
   {
    "duration": 69,
    "start_time": "2025-02-02T16:22:07.859Z"
   },
   {
    "duration": 73,
    "start_time": "2025-02-02T16:22:29.237Z"
   },
   {
    "duration": 69,
    "start_time": "2025-02-02T16:22:32.744Z"
   },
   {
    "duration": 167,
    "start_time": "2025-02-02T16:23:15.877Z"
   },
   {
    "duration": 524,
    "start_time": "2025-02-02T16:25:25.265Z"
   },
   {
    "duration": 3,
    "start_time": "2025-02-02T16:25:28.505Z"
   },
   {
    "duration": 11,
    "start_time": "2025-02-02T16:26:12.712Z"
   },
   {
    "duration": 19,
    "start_time": "2025-02-02T16:27:15.792Z"
   },
   {
    "duration": 69,
    "start_time": "2025-02-02T16:27:35.003Z"
   },
   {
    "duration": 18,
    "start_time": "2025-02-02T16:27:58.103Z"
   },
   {
    "duration": 3,
    "start_time": "2025-02-02T16:28:13.410Z"
   },
   {
    "duration": 65,
    "start_time": "2025-02-02T16:32:10.671Z"
   },
   {
    "duration": 426,
    "start_time": "2025-02-02T16:32:44.683Z"
   },
   {
    "duration": 3,
    "start_time": "2025-02-02T16:33:03.564Z"
   },
   {
    "duration": 869,
    "start_time": "2025-02-02T16:39:48.927Z"
   },
   {
    "duration": 417,
    "start_time": "2025-02-02T16:39:49.798Z"
   },
   {
    "duration": 27,
    "start_time": "2025-02-02T16:39:50.217Z"
   },
   {
    "duration": 4,
    "start_time": "2025-02-02T16:39:50.247Z"
   },
   {
    "duration": 105,
    "start_time": "2025-02-02T16:39:50.253Z"
   },
   {
    "duration": 1258,
    "start_time": "2025-02-02T16:39:50.360Z"
   },
   {
    "duration": 41,
    "start_time": "2025-02-02T16:39:51.620Z"
   },
   {
    "duration": 195,
    "start_time": "2025-02-02T16:39:51.662Z"
   },
   {
    "duration": 10,
    "start_time": "2025-02-02T16:39:51.858Z"
   },
   {
    "duration": 27,
    "start_time": "2025-02-02T16:39:51.873Z"
   },
   {
    "duration": 91,
    "start_time": "2025-02-02T16:39:51.902Z"
   },
   {
    "duration": 19,
    "start_time": "2025-02-02T16:39:51.995Z"
   },
   {
    "duration": 4,
    "start_time": "2025-02-02T16:39:52.024Z"
   },
   {
    "duration": 461,
    "start_time": "2025-02-02T16:39:52.029Z"
   },
   {
    "duration": 3,
    "start_time": "2025-02-02T16:39:52.492Z"
   },
   {
    "duration": 309328,
    "start_time": "2025-02-02T16:39:52.497Z"
   },
   {
    "duration": 0,
    "start_time": "2025-02-02T16:45:02.058Z"
   },
   {
    "duration": 435,
    "start_time": "2025-02-02T16:47:37.885Z"
   },
   {
    "duration": 302448,
    "start_time": "2025-02-02T16:50:47.581Z"
   },
   {
    "duration": 150,
    "start_time": "2025-02-02T17:05:37.151Z"
   },
   {
    "duration": 364640,
    "start_time": "2025-02-02T17:08:52.463Z"
   },
   {
    "duration": 174,
    "start_time": "2025-02-02T20:54:08.855Z"
   },
   {
    "duration": 941,
    "start_time": "2025-02-02T20:54:21.394Z"
   },
   {
    "duration": 446,
    "start_time": "2025-02-02T20:54:22.337Z"
   },
   {
    "duration": 22,
    "start_time": "2025-02-02T20:54:22.785Z"
   },
   {
    "duration": 5,
    "start_time": "2025-02-02T20:54:22.809Z"
   },
   {
    "duration": 110,
    "start_time": "2025-02-02T20:54:22.817Z"
   },
   {
    "duration": 1280,
    "start_time": "2025-02-02T20:54:22.929Z"
   },
   {
    "duration": 40,
    "start_time": "2025-02-02T20:54:24.211Z"
   },
   {
    "duration": 189,
    "start_time": "2025-02-02T20:54:24.253Z"
   },
   {
    "duration": 10,
    "start_time": "2025-02-02T20:54:24.444Z"
   },
   {
    "duration": 27,
    "start_time": "2025-02-02T20:54:24.456Z"
   },
   {
    "duration": 87,
    "start_time": "2025-02-02T20:54:24.484Z"
   },
   {
    "duration": 298,
    "start_time": "2025-02-02T20:54:24.572Z"
   },
   {
    "duration": 0,
    "start_time": "2025-02-02T20:54:24.872Z"
   },
   {
    "duration": 0,
    "start_time": "2025-02-02T20:54:24.873Z"
   },
   {
    "duration": 27,
    "start_time": "2025-02-02T20:54:31.245Z"
   },
   {
    "duration": 3,
    "start_time": "2025-02-02T20:55:07.966Z"
   },
   {
    "duration": 931,
    "start_time": "2025-02-02T20:55:15.729Z"
   },
   {
    "duration": 421,
    "start_time": "2025-02-02T20:55:16.662Z"
   },
   {
    "duration": 22,
    "start_time": "2025-02-02T20:55:17.084Z"
   },
   {
    "duration": 4,
    "start_time": "2025-02-02T20:55:17.107Z"
   },
   {
    "duration": 108,
    "start_time": "2025-02-02T20:55:17.114Z"
   },
   {
    "duration": 1278,
    "start_time": "2025-02-02T20:55:17.223Z"
   },
   {
    "duration": 42,
    "start_time": "2025-02-02T20:55:18.503Z"
   },
   {
    "duration": 191,
    "start_time": "2025-02-02T20:55:18.547Z"
   },
   {
    "duration": 10,
    "start_time": "2025-02-02T20:55:18.741Z"
   },
   {
    "duration": 27,
    "start_time": "2025-02-02T20:55:18.752Z"
   },
   {
    "duration": 71,
    "start_time": "2025-02-02T20:55:18.781Z"
   },
   {
    "duration": 462,
    "start_time": "2025-02-02T20:55:18.854Z"
   },
   {
    "duration": 4,
    "start_time": "2025-02-02T20:55:19.318Z"
   },
   {
    "duration": 386171,
    "start_time": "2025-02-02T20:55:19.324Z"
   },
   {
    "duration": 963,
    "start_time": "2025-02-03T00:47:04.166Z"
   },
   {
    "duration": 506,
    "start_time": "2025-02-03T00:47:05.131Z"
   },
   {
    "duration": 26,
    "start_time": "2025-02-03T00:47:05.639Z"
   },
   {
    "duration": 5,
    "start_time": "2025-02-03T00:47:05.668Z"
   },
   {
    "duration": 143,
    "start_time": "2025-02-03T00:47:05.675Z"
   },
   {
    "duration": 1289,
    "start_time": "2025-02-03T00:47:05.820Z"
   },
   {
    "duration": 50,
    "start_time": "2025-02-03T00:47:07.111Z"
   },
   {
    "duration": 226,
    "start_time": "2025-02-03T00:47:07.162Z"
   },
   {
    "duration": 19,
    "start_time": "2025-02-03T00:47:07.390Z"
   },
   {
    "duration": 22,
    "start_time": "2025-02-03T00:47:07.411Z"
   },
   {
    "duration": 89,
    "start_time": "2025-02-03T00:47:07.435Z"
   },
   {
    "duration": 502,
    "start_time": "2025-02-03T00:47:07.526Z"
   },
   {
    "duration": 2,
    "start_time": "2025-02-03T00:47:08.030Z"
   },
   {
    "duration": 1030,
    "start_time": "2025-02-03T04:16:41.259Z"
   },
   {
    "duration": 449,
    "start_time": "2025-02-03T04:16:42.291Z"
   },
   {
    "duration": 22,
    "start_time": "2025-02-03T04:16:42.742Z"
   },
   {
    "duration": 4,
    "start_time": "2025-02-03T04:16:42.766Z"
   },
   {
    "duration": 103,
    "start_time": "2025-02-03T04:16:42.773Z"
   },
   {
    "duration": 1283,
    "start_time": "2025-02-03T04:16:42.878Z"
   },
   {
    "duration": 41,
    "start_time": "2025-02-03T04:16:44.162Z"
   },
   {
    "duration": 182,
    "start_time": "2025-02-03T04:16:44.205Z"
   },
   {
    "duration": 11,
    "start_time": "2025-02-03T04:16:44.388Z"
   },
   {
    "duration": 36,
    "start_time": "2025-02-03T04:16:44.400Z"
   },
   {
    "duration": 68,
    "start_time": "2025-02-03T04:16:44.438Z"
   },
   {
    "duration": 479,
    "start_time": "2025-02-03T04:16:44.508Z"
   },
   {
    "duration": 3,
    "start_time": "2025-02-03T04:16:44.989Z"
   },
   {
    "duration": 165,
    "start_time": "2025-02-04T02:23:15.267Z"
   },
   {
    "duration": 2810,
    "start_time": "2025-02-04T02:23:34.165Z"
   },
   {
    "duration": 212,
    "start_time": "2025-02-04T02:23:41.686Z"
   },
   {
    "duration": 465,
    "start_time": "2025-02-04T02:23:50.304Z"
   },
   {
    "duration": 23,
    "start_time": "2025-02-04T02:23:51.950Z"
   },
   {
    "duration": 5,
    "start_time": "2025-02-04T02:23:52.210Z"
   },
   {
    "duration": 91,
    "start_time": "2025-02-04T02:23:52.614Z"
   },
   {
    "duration": 1325,
    "start_time": "2025-02-04T02:23:52.992Z"
   },
   {
    "duration": 46,
    "start_time": "2025-02-04T02:23:54.320Z"
   },
   {
    "duration": 619,
    "start_time": "2025-02-04T02:23:54.368Z"
   },
   {
    "duration": 239,
    "start_time": "2025-02-04T02:31:54.633Z"
   },
   {
    "duration": 161,
    "start_time": "2025-02-04T02:32:06.314Z"
   },
   {
    "duration": 134,
    "start_time": "2025-02-04T02:45:21.143Z"
   },
   {
    "duration": 148,
    "start_time": "2025-02-04T02:45:52.231Z"
   },
   {
    "duration": 19,
    "start_time": "2025-02-04T02:54:07.503Z"
   },
   {
    "duration": 10,
    "start_time": "2025-02-04T02:54:11.234Z"
   },
   {
    "duration": 14,
    "start_time": "2025-02-04T02:54:11.660Z"
   },
   {
    "duration": 69,
    "start_time": "2025-02-04T02:54:11.958Z"
   },
   {
    "duration": 557,
    "start_time": "2025-02-04T02:54:12.743Z"
   },
   {
    "duration": 15,
    "start_time": "2025-02-04T03:06:37.553Z"
   },
   {
    "duration": 3,
    "start_time": "2025-02-04T03:07:19.725Z"
   },
   {
    "duration": 1058,
    "start_time": "2025-02-04T03:21:14.514Z"
   },
   {
    "duration": 415,
    "start_time": "2025-02-04T03:21:15.574Z"
   },
   {
    "duration": 23,
    "start_time": "2025-02-04T03:21:15.991Z"
   },
   {
    "duration": 4,
    "start_time": "2025-02-04T03:21:16.015Z"
   },
   {
    "duration": 88,
    "start_time": "2025-02-04T03:21:16.033Z"
   },
   {
    "duration": 1306,
    "start_time": "2025-02-04T03:21:16.131Z"
   },
   {
    "duration": 51,
    "start_time": "2025-02-04T03:21:17.439Z"
   },
   {
    "duration": 597,
    "start_time": "2025-02-04T03:21:17.492Z"
   },
   {
    "duration": 156,
    "start_time": "2025-02-04T03:21:18.091Z"
   },
   {
    "duration": 11,
    "start_time": "2025-02-04T03:21:18.249Z"
   },
   {
    "duration": 15,
    "start_time": "2025-02-04T03:21:18.261Z"
   },
   {
    "duration": 83,
    "start_time": "2025-02-04T03:21:18.278Z"
   },
   {
    "duration": 580,
    "start_time": "2025-02-04T03:21:18.363Z"
   },
   {
    "duration": 0,
    "start_time": "2025-02-04T05:02:40.242Z"
   },
   {
    "duration": 0,
    "start_time": "2025-02-04T05:02:40.244Z"
   },
   {
    "duration": 0,
    "start_time": "2025-02-04T05:02:40.247Z"
   },
   {
    "duration": 0,
    "start_time": "2025-02-04T05:02:40.248Z"
   },
   {
    "duration": 1134,
    "start_time": "2025-02-04T05:25:53.354Z"
   },
   {
    "duration": 468,
    "start_time": "2025-02-04T05:25:54.490Z"
   },
   {
    "duration": 24,
    "start_time": "2025-02-04T05:25:54.960Z"
   },
   {
    "duration": 4,
    "start_time": "2025-02-04T05:25:54.987Z"
   },
   {
    "duration": 96,
    "start_time": "2025-02-04T05:25:54.993Z"
   },
   {
    "duration": 1436,
    "start_time": "2025-02-04T05:25:55.091Z"
   },
   {
    "duration": 49,
    "start_time": "2025-02-04T05:25:56.530Z"
   },
   {
    "duration": 611,
    "start_time": "2025-02-04T05:25:56.581Z"
   },
   {
    "duration": 170,
    "start_time": "2025-02-04T05:25:57.194Z"
   },
   {
    "duration": 11,
    "start_time": "2025-02-04T05:25:57.367Z"
   },
   {
    "duration": 14,
    "start_time": "2025-02-04T05:25:57.379Z"
   },
   {
    "duration": 97,
    "start_time": "2025-02-04T05:25:57.395Z"
   },
   {
    "duration": 677,
    "start_time": "2025-02-04T05:25:57.494Z"
   },
   {
    "duration": 2783,
    "start_time": "2025-02-04T09:07:39.645Z"
   },
   {
    "duration": 513,
    "start_time": "2025-02-04T09:07:42.430Z"
   },
   {
    "duration": 67,
    "start_time": "2025-02-04T09:07:42.944Z"
   },
   {
    "duration": 5,
    "start_time": "2025-02-04T09:07:43.013Z"
   },
   {
    "duration": 101,
    "start_time": "2025-02-04T09:07:43.020Z"
   },
   {
    "duration": 1333,
    "start_time": "2025-02-04T09:07:43.123Z"
   },
   {
    "duration": 48,
    "start_time": "2025-02-04T09:07:44.458Z"
   },
   {
    "duration": 637,
    "start_time": "2025-02-04T09:07:44.508Z"
   },
   {
    "duration": 158,
    "start_time": "2025-02-04T09:07:45.147Z"
   },
   {
    "duration": 10,
    "start_time": "2025-02-04T09:07:45.307Z"
   },
   {
    "duration": 15,
    "start_time": "2025-02-04T09:07:45.318Z"
   },
   {
    "duration": 81,
    "start_time": "2025-02-04T09:07:45.334Z"
   },
   {
    "duration": 574,
    "start_time": "2025-02-04T09:07:45.417Z"
   },
   {
    "duration": 2776,
    "start_time": "2025-02-04T10:32:50.659Z"
   },
   {
    "duration": 460,
    "start_time": "2025-02-04T10:32:53.437Z"
   },
   {
    "duration": 83,
    "start_time": "2025-02-04T10:32:53.898Z"
   },
   {
    "duration": 4,
    "start_time": "2025-02-04T10:32:53.984Z"
   },
   {
    "duration": 99,
    "start_time": "2025-02-04T10:32:53.990Z"
   },
   {
    "duration": 1263,
    "start_time": "2025-02-04T10:32:54.091Z"
   },
   {
    "duration": 42,
    "start_time": "2025-02-04T10:32:55.356Z"
   },
   {
    "duration": 598,
    "start_time": "2025-02-04T10:32:55.400Z"
   },
   {
    "duration": 153,
    "start_time": "2025-02-04T10:32:55.999Z"
   },
   {
    "duration": 10,
    "start_time": "2025-02-04T10:32:56.156Z"
   },
   {
    "duration": 15,
    "start_time": "2025-02-04T10:32:56.168Z"
   },
   {
    "duration": 89,
    "start_time": "2025-02-04T10:32:56.185Z"
   },
   {
    "duration": 564,
    "start_time": "2025-02-04T10:32:56.276Z"
   },
   {
    "duration": 1069,
    "start_time": "2025-02-04T11:23:33.331Z"
   },
   {
    "duration": 409,
    "start_time": "2025-02-04T11:23:34.402Z"
   },
   {
    "duration": 25,
    "start_time": "2025-02-04T11:23:34.813Z"
   },
   {
    "duration": 5,
    "start_time": "2025-02-04T11:23:34.839Z"
   },
   {
    "duration": 94,
    "start_time": "2025-02-04T11:23:34.847Z"
   },
   {
    "duration": 1361,
    "start_time": "2025-02-04T11:23:34.943Z"
   },
   {
    "duration": 46,
    "start_time": "2025-02-04T11:23:36.305Z"
   },
   {
    "duration": 615,
    "start_time": "2025-02-04T11:23:36.353Z"
   },
   {
    "duration": 156,
    "start_time": "2025-02-04T11:23:36.970Z"
   },
   {
    "duration": 10,
    "start_time": "2025-02-04T11:23:37.128Z"
   },
   {
    "duration": 14,
    "start_time": "2025-02-04T11:23:37.140Z"
   },
   {
    "duration": 87,
    "start_time": "2025-02-04T11:23:37.156Z"
   },
   {
    "duration": 573,
    "start_time": "2025-02-04T11:23:37.244Z"
   },
   {
    "duration": 0,
    "start_time": "2025-02-04T11:40:01.544Z"
   },
   {
    "duration": 0,
    "start_time": "2025-02-04T11:40:01.546Z"
   },
   {
    "duration": 0,
    "start_time": "2025-02-04T11:40:01.550Z"
   },
   {
    "duration": 0,
    "start_time": "2025-02-04T11:40:01.551Z"
   },
   {
    "duration": 0,
    "start_time": "2025-02-04T11:40:01.552Z"
   },
   {
    "duration": 0,
    "start_time": "2025-02-04T11:40:01.554Z"
   },
   {
    "duration": 8,
    "start_time": "2025-02-04T11:40:40.267Z"
   },
   {
    "duration": 4,
    "start_time": "2025-02-04T11:40:44.816Z"
   },
   {
    "duration": 166,
    "start_time": "2025-02-05T00:05:15.461Z"
   },
   {
    "duration": 3212,
    "start_time": "2025-02-05T00:05:25.274Z"
   },
   {
    "duration": 568,
    "start_time": "2025-02-05T00:05:28.489Z"
   },
   {
    "duration": 33,
    "start_time": "2025-02-05T00:05:29.059Z"
   },
   {
    "duration": 6,
    "start_time": "2025-02-05T00:05:29.093Z"
   },
   {
    "duration": 102,
    "start_time": "2025-02-05T00:05:29.101Z"
   },
   {
    "duration": 1304,
    "start_time": "2025-02-05T00:05:29.205Z"
   },
   {
    "duration": 44,
    "start_time": "2025-02-05T00:05:30.510Z"
   },
   {
    "duration": 681,
    "start_time": "2025-02-05T00:05:30.556Z"
   },
   {
    "duration": 224,
    "start_time": "2025-02-05T00:05:31.239Z"
   },
   {
    "duration": 10,
    "start_time": "2025-02-05T00:05:31.469Z"
   },
   {
    "duration": 15,
    "start_time": "2025-02-05T00:05:31.481Z"
   },
   {
    "duration": 87,
    "start_time": "2025-02-05T00:05:31.498Z"
   },
   {
    "duration": 576,
    "start_time": "2025-02-05T00:05:31.587Z"
   },
   {
    "duration": 527068,
    "start_time": "2025-02-05T00:05:32.169Z"
   },
   {
    "duration": 447,
    "start_time": "2025-02-05T00:14:19.238Z"
   },
   {
    "duration": 0,
    "start_time": "2025-02-05T00:14:19.686Z"
   },
   {
    "duration": 84,
    "start_time": "2025-02-05T00:36:10.303Z"
   },
   {
    "duration": 449,
    "start_time": "2025-02-05T00:44:17.678Z"
   },
   {
    "duration": 83,
    "start_time": "2025-02-05T00:44:26.982Z"
   },
   {
    "duration": 417,
    "start_time": "2025-02-05T00:44:29.567Z"
   },
   {
    "duration": 143,
    "start_time": "2025-02-05T00:48:41.136Z"
   },
   {
    "duration": 288,
    "start_time": "2025-02-05T01:01:53.636Z"
   },
   {
    "duration": 259,
    "start_time": "2025-02-05T01:09:11.450Z"
   },
   {
    "duration": 274,
    "start_time": "2025-02-05T01:10:00.970Z"
   },
   {
    "duration": 3,
    "start_time": "2025-02-05T01:10:13.233Z"
   },
   {
    "duration": 112,
    "start_time": "2025-02-05T01:10:22.581Z"
   },
   {
    "duration": 277,
    "start_time": "2025-02-05T01:10:28.850Z"
   },
   {
    "duration": 273,
    "start_time": "2025-02-05T01:12:39.732Z"
   },
   {
    "duration": 1054,
    "start_time": "2025-02-05T01:16:41.483Z"
   },
   {
    "duration": 7397,
    "start_time": "2025-02-05T01:20:24.180Z"
   },
   {
    "duration": 83051,
    "start_time": "2025-02-05T01:28:35.567Z"
   },
   {
    "duration": 82888,
    "start_time": "2025-02-05T01:31:26.506Z"
   },
   {
    "duration": 345943,
    "start_time": "2025-02-05T01:41:34.158Z"
   },
   {
    "duration": 91019,
    "start_time": "2025-02-05T01:57:27.516Z"
   },
   {
    "duration": 266298,
    "start_time": "2025-02-05T02:06:06.677Z"
   },
   {
    "duration": 58568,
    "start_time": "2025-02-05T02:10:32.979Z"
   },
   {
    "duration": 205,
    "start_time": "2025-02-05T03:15:16.097Z"
   },
   {
    "duration": 3451,
    "start_time": "2025-02-05T03:15:25.176Z"
   },
   {
    "duration": 501,
    "start_time": "2025-02-05T03:15:28.629Z"
   },
   {
    "duration": 32,
    "start_time": "2025-02-05T03:15:29.132Z"
   },
   {
    "duration": 4,
    "start_time": "2025-02-05T03:15:29.172Z"
   },
   {
    "duration": 106,
    "start_time": "2025-02-05T03:15:29.179Z"
   },
   {
    "duration": 1361,
    "start_time": "2025-02-05T03:15:29.288Z"
   },
   {
    "duration": 52,
    "start_time": "2025-02-05T03:15:30.651Z"
   },
   {
    "duration": 735,
    "start_time": "2025-02-05T03:15:30.705Z"
   },
   {
    "duration": 164,
    "start_time": "2025-02-05T03:15:31.442Z"
   },
   {
    "duration": 12,
    "start_time": "2025-02-05T03:15:31.611Z"
   },
   {
    "duration": 18,
    "start_time": "2025-02-05T03:15:31.625Z"
   },
   {
    "duration": 125,
    "start_time": "2025-02-05T03:15:31.645Z"
   },
   {
    "duration": 1390,
    "start_time": "2025-02-05T03:15:31.772Z"
   },
   {
    "duration": 457,
    "start_time": "2025-02-05T03:15:33.164Z"
   },
   {
    "duration": 0,
    "start_time": "2025-02-05T03:15:33.623Z"
   },
   {
    "duration": 0,
    "start_time": "2025-02-05T03:15:33.624Z"
   },
   {
    "duration": 9138,
    "start_time": "2025-02-05T03:19:53.255Z"
   },
   {
    "duration": 249,
    "start_time": "2025-02-05T03:20:16.107Z"
   },
   {
    "duration": 1328,
    "start_time": "2025-02-05T03:20:28.533Z"
   },
   {
    "duration": 424,
    "start_time": "2025-02-05T03:20:29.863Z"
   },
   {
    "duration": 24,
    "start_time": "2025-02-05T03:20:30.290Z"
   },
   {
    "duration": 5,
    "start_time": "2025-02-05T03:20:30.316Z"
   },
   {
    "duration": 103,
    "start_time": "2025-02-05T03:20:30.323Z"
   },
   {
    "duration": 1379,
    "start_time": "2025-02-05T03:20:30.428Z"
   },
   {
    "duration": 41,
    "start_time": "2025-02-05T03:20:31.810Z"
   },
   {
    "duration": 666,
    "start_time": "2025-02-05T03:20:31.854Z"
   },
   {
    "duration": 160,
    "start_time": "2025-02-05T03:20:32.522Z"
   },
   {
    "duration": 11,
    "start_time": "2025-02-05T03:20:32.685Z"
   },
   {
    "duration": 18,
    "start_time": "2025-02-05T03:20:32.698Z"
   },
   {
    "duration": 129,
    "start_time": "2025-02-05T03:20:32.718Z"
   },
   {
    "duration": 1305,
    "start_time": "2025-02-05T03:20:32.848Z"
   },
   {
    "duration": 554,
    "start_time": "2025-02-05T03:20:34.155Z"
   },
   {
    "duration": 0,
    "start_time": "2025-02-05T03:20:34.711Z"
   },
   {
    "duration": 0,
    "start_time": "2025-02-05T03:20:34.713Z"
   },
   {
    "duration": 358967,
    "start_time": "2025-02-05T03:35:25.607Z"
   },
   {
    "duration": 0,
    "start_time": "2025-02-05T03:49:04.876Z"
   },
   {
    "duration": 1,
    "start_time": "2025-02-05T03:49:04.876Z"
   },
   {
    "duration": 9,
    "start_time": "2025-02-05T04:10:14.209Z"
   },
   {
    "duration": 0,
    "start_time": "2025-02-05T04:12:38.838Z"
   },
   {
    "duration": 140,
    "start_time": "2025-02-05T04:29:13.850Z"
   },
   {
    "duration": 7,
    "start_time": "2025-02-05T04:29:19.604Z"
   },
   {
    "duration": 4,
    "start_time": "2025-02-05T04:34:50.692Z"
   },
   {
    "duration": 1101,
    "start_time": "2025-02-05T04:36:23.231Z"
   },
   {
    "duration": 470,
    "start_time": "2025-02-05T04:36:24.334Z"
   },
   {
    "duration": 179,
    "start_time": "2025-02-05T04:36:24.806Z"
   },
   {
    "duration": 5,
    "start_time": "2025-02-05T04:36:25.001Z"
   },
   {
    "duration": 97,
    "start_time": "2025-02-05T04:36:25.010Z"
   },
   {
    "duration": 1502,
    "start_time": "2025-02-05T04:36:25.109Z"
   },
   {
    "duration": 40,
    "start_time": "2025-02-05T04:36:26.612Z"
   },
   {
    "duration": 661,
    "start_time": "2025-02-05T04:36:26.654Z"
   },
   {
    "duration": 184,
    "start_time": "2025-02-05T04:36:27.317Z"
   },
   {
    "duration": 10,
    "start_time": "2025-02-05T04:36:27.504Z"
   },
   {
    "duration": 13,
    "start_time": "2025-02-05T04:36:27.516Z"
   },
   {
    "duration": 108,
    "start_time": "2025-02-05T04:36:27.531Z"
   },
   {
    "duration": 363,
    "start_time": "2025-02-05T04:36:27.640Z"
   },
   {
    "duration": 0,
    "start_time": "2025-02-05T04:36:28.005Z"
   },
   {
    "duration": 0,
    "start_time": "2025-02-05T04:36:28.007Z"
   },
   {
    "duration": 0,
    "start_time": "2025-02-05T04:36:28.008Z"
   },
   {
    "duration": 5,
    "start_time": "2025-02-05T04:36:56.914Z"
   },
   {
    "duration": 6,
    "start_time": "2025-02-05T04:38:45.456Z"
   },
   {
    "duration": 632,
    "start_time": "2025-02-05T04:38:53.084Z"
   },
   {
    "duration": 26,
    "start_time": "2025-02-05T04:40:09.123Z"
   },
   {
    "duration": 246,
    "start_time": "2025-02-05T04:40:37.612Z"
   },
   {
    "duration": 213,
    "start_time": "2025-02-05T04:43:36.496Z"
   },
   {
    "duration": 1270,
    "start_time": "2025-02-05T04:43:45.993Z"
   },
   {
    "duration": 504,
    "start_time": "2025-02-05T04:43:47.265Z"
   },
   {
    "duration": 189,
    "start_time": "2025-02-05T04:43:47.771Z"
   },
   {
    "duration": 6,
    "start_time": "2025-02-05T04:43:47.970Z"
   },
   {
    "duration": 99,
    "start_time": "2025-02-05T04:43:47.978Z"
   },
   {
    "duration": 1484,
    "start_time": "2025-02-05T04:43:48.079Z"
   },
   {
    "duration": 55,
    "start_time": "2025-02-05T04:43:49.565Z"
   },
   {
    "duration": 683,
    "start_time": "2025-02-05T04:43:49.622Z"
   },
   {
    "duration": 174,
    "start_time": "2025-02-05T04:43:50.307Z"
   },
   {
    "duration": 17,
    "start_time": "2025-02-05T04:43:50.485Z"
   },
   {
    "duration": 15,
    "start_time": "2025-02-05T04:43:50.504Z"
   },
   {
    "duration": 118,
    "start_time": "2025-02-05T04:43:50.521Z"
   },
   {
    "duration": 577,
    "start_time": "2025-02-05T04:43:50.641Z"
   },
   {
    "duration": 0,
    "start_time": "2025-02-05T04:43:51.220Z"
   },
   {
    "duration": 0,
    "start_time": "2025-02-05T04:43:51.221Z"
   },
   {
    "duration": 0,
    "start_time": "2025-02-05T04:43:51.223Z"
   },
   {
    "duration": 688,
    "start_time": "2025-02-05T04:44:32.374Z"
   },
   {
    "duration": 3,
    "start_time": "2025-02-05T04:44:52.914Z"
   },
   {
    "duration": 91,
    "start_time": "2025-02-05T04:44:54.123Z"
   },
   {
    "duration": 19,
    "start_time": "2025-02-05T04:46:39.386Z"
   },
   {
    "duration": 33,
    "start_time": "2025-02-05T04:47:17.368Z"
   },
   {
    "duration": 3919,
    "start_time": "2025-02-05T04:47:24.248Z"
   },
   {
    "duration": 82,
    "start_time": "2025-02-05T04:47:58.322Z"
   },
   {
    "duration": 88,
    "start_time": "2025-02-05T04:48:59.166Z"
   },
   {
    "duration": 592,
    "start_time": "2025-02-05T04:51:09.481Z"
   },
   {
    "duration": 1141,
    "start_time": "2025-02-05T04:52:19.094Z"
   },
   {
    "duration": 490,
    "start_time": "2025-02-05T04:52:20.238Z"
   },
   {
    "duration": 198,
    "start_time": "2025-02-05T04:52:20.730Z"
   },
   {
    "duration": 5,
    "start_time": "2025-02-05T04:52:20.930Z"
   },
   {
    "duration": 116,
    "start_time": "2025-02-05T04:52:20.938Z"
   },
   {
    "duration": 1637,
    "start_time": "2025-02-05T04:52:21.055Z"
   },
   {
    "duration": 49,
    "start_time": "2025-02-05T04:52:22.694Z"
   },
   {
    "duration": 636,
    "start_time": "2025-02-05T04:52:22.747Z"
   },
   {
    "duration": 168,
    "start_time": "2025-02-05T04:52:23.386Z"
   },
   {
    "duration": 262,
    "start_time": "2025-02-05T04:52:23.556Z"
   },
   {
    "duration": 0,
    "start_time": "2025-02-05T04:52:23.820Z"
   },
   {
    "duration": 0,
    "start_time": "2025-02-05T04:52:23.821Z"
   },
   {
    "duration": 0,
    "start_time": "2025-02-05T04:52:23.822Z"
   },
   {
    "duration": 0,
    "start_time": "2025-02-05T04:52:23.824Z"
   },
   {
    "duration": 0,
    "start_time": "2025-02-05T04:52:23.825Z"
   },
   {
    "duration": 0,
    "start_time": "2025-02-05T04:52:23.827Z"
   },
   {
    "duration": 19,
    "start_time": "2025-02-05T04:52:41.283Z"
   },
   {
    "duration": 467,
    "start_time": "2025-02-05T04:52:50.937Z"
   },
   {
    "duration": 10,
    "start_time": "2025-02-05T04:53:24.304Z"
   },
   {
    "duration": 131,
    "start_time": "2025-02-05T04:53:25.579Z"
   },
   {
    "duration": 767,
    "start_time": "2025-02-05T04:54:19.451Z"
   },
   {
    "duration": 3,
    "start_time": "2025-02-05T04:54:25.654Z"
   },
   {
    "duration": 91,
    "start_time": "2025-02-05T04:54:27.140Z"
   },
   {
    "duration": 550,
    "start_time": "2025-02-05T04:55:54.376Z"
   },
   {
    "duration": 6,
    "start_time": "2025-02-05T04:56:16.131Z"
   },
   {
    "duration": 533,
    "start_time": "2025-02-05T04:56:25.012Z"
   },
   {
    "duration": 5,
    "start_time": "2025-02-05T04:56:49.131Z"
   },
   {
    "duration": 488,
    "start_time": "2025-02-05T04:56:54.663Z"
   },
   {
    "duration": 3,
    "start_time": "2025-02-05T04:57:16.657Z"
   },
   {
    "duration": 5,
    "start_time": "2025-02-05T04:57:39.286Z"
   },
   {
    "duration": 1609,
    "start_time": "2025-02-05T04:57:41.497Z"
   },
   {
    "duration": 1431,
    "start_time": "2025-02-05T05:02:55.177Z"
   },
   {
    "duration": 4,
    "start_time": "2025-02-05T05:09:41.911Z"
   },
   {
    "duration": 1369,
    "start_time": "2025-02-05T05:09:42.523Z"
   },
   {
    "duration": 455,
    "start_time": "2025-02-05T05:10:05.343Z"
   },
   {
    "duration": 3,
    "start_time": "2025-02-05T05:10:07.528Z"
   },
   {
    "duration": 1381,
    "start_time": "2025-02-05T05:10:08.015Z"
   },
   {
    "duration": 1359,
    "start_time": "2025-02-05T05:12:57.390Z"
   },
   {
    "duration": 448,
    "start_time": "2025-02-05T05:14:18.022Z"
   },
   {
    "duration": 4,
    "start_time": "2025-02-05T05:14:32.487Z"
   },
   {
    "duration": 1335,
    "start_time": "2025-02-05T05:14:33.431Z"
   },
   {
    "duration": 14,
    "start_time": "2025-02-05T05:18:55.969Z"
   },
   {
    "duration": 16,
    "start_time": "2025-02-05T05:19:24.424Z"
   },
   {
    "duration": 3,
    "start_time": "2025-02-05T05:22:26.301Z"
   },
   {
    "duration": 603,
    "start_time": "2025-02-05T05:22:27.008Z"
   },
   {
    "duration": 806,
    "start_time": "2025-02-05T05:28:19.075Z"
   },
   {
    "duration": 3,
    "start_time": "2025-02-05T05:28:41.148Z"
   },
   {
    "duration": 15,
    "start_time": "2025-02-05T05:29:10.107Z"
   },
   {
    "duration": 1015,
    "start_time": "2025-02-05T05:29:14.695Z"
   },
   {
    "duration": 1063,
    "start_time": "2025-02-05T05:29:32.354Z"
   },
   {
    "duration": 414,
    "start_time": "2025-02-05T05:29:33.418Z"
   },
   {
    "duration": 157,
    "start_time": "2025-02-05T05:29:33.833Z"
   },
   {
    "duration": 5,
    "start_time": "2025-02-05T05:29:33.994Z"
   },
   {
    "duration": 100,
    "start_time": "2025-02-05T05:29:34.001Z"
   },
   {
    "duration": 1244,
    "start_time": "2025-02-05T05:29:34.102Z"
   },
   {
    "duration": 44,
    "start_time": "2025-02-05T05:29:35.348Z"
   },
   {
    "duration": 614,
    "start_time": "2025-02-05T05:29:35.394Z"
   },
   {
    "duration": 136,
    "start_time": "2025-02-05T05:29:36.010Z"
   },
   {
    "duration": 22,
    "start_time": "2025-02-05T05:29:36.149Z"
   },
   {
    "duration": 110,
    "start_time": "2025-02-05T05:29:36.173Z"
   },
   {
    "duration": 1047,
    "start_time": "2025-02-05T05:29:36.285Z"
   },
   {
    "duration": 4,
    "start_time": "2025-02-05T05:29:37.334Z"
   },
   {
    "duration": 574,
    "start_time": "2025-02-05T05:29:37.340Z"
   },
   {
    "duration": 0,
    "start_time": "2025-02-05T05:29:37.916Z"
   },
   {
    "duration": 51,
    "start_time": "2025-02-05T05:32:08.081Z"
   },
   {
    "duration": 4,
    "start_time": "2025-02-05T05:32:58.674Z"
   },
   {
    "duration": 48,
    "start_time": "2025-02-05T05:33:01.778Z"
   },
   {
    "duration": 638,
    "start_time": "2025-02-05T05:33:22.664Z"
   },
   {
    "duration": 3,
    "start_time": "2025-02-05T05:33:38.920Z"
   },
   {
    "duration": 4,
    "start_time": "2025-02-05T05:43:34.155Z"
   },
   {
    "duration": 255,
    "start_time": "2025-02-05T05:43:50.646Z"
   },
   {
    "duration": 31222,
    "start_time": "2025-02-05T05:45:55.675Z"
   },
   {
    "duration": 590,
    "start_time": "2025-02-05T05:48:45.865Z"
   },
   {
    "duration": 65952,
    "start_time": "2025-02-05T05:49:24.900Z"
   },
   {
    "duration": 393,
    "start_time": "2025-02-05T05:52:25.931Z"
   },
   {
    "duration": 4,
    "start_time": "2025-02-05T05:52:32.319Z"
   },
   {
    "duration": 240239,
    "start_time": "2025-02-05T05:52:33.222Z"
   },
   {
    "duration": 3,
    "start_time": "2025-02-05T05:59:11.144Z"
   },
   {
    "duration": 176083,
    "start_time": "2025-02-05T05:59:33.709Z"
   },
   {
    "duration": 241994,
    "start_time": "2025-02-05T06:02:34.946Z"
   },
   {
    "duration": 2494,
    "start_time": "2025-02-05T06:06:39.377Z"
   },
   {
    "duration": 1124,
    "start_time": "2025-02-05T07:16:19.014Z"
   },
   {
    "duration": 2765,
    "start_time": "2025-02-05T10:40:07.056Z"
   },
   {
    "duration": 305,
    "start_time": "2025-02-05T10:44:48.344Z"
   },
   {
    "duration": 14,
    "start_time": "2025-02-05T10:55:34.146Z"
   },
   {
    "duration": 1097,
    "start_time": "2025-02-05T10:55:41.509Z"
   },
   {
    "duration": 470,
    "start_time": "2025-02-05T10:55:42.608Z"
   },
   {
    "duration": 161,
    "start_time": "2025-02-05T10:55:43.080Z"
   },
   {
    "duration": 5,
    "start_time": "2025-02-05T10:55:43.243Z"
   },
   {
    "duration": 97,
    "start_time": "2025-02-05T10:55:43.250Z"
   },
   {
    "duration": 1267,
    "start_time": "2025-02-05T10:55:43.349Z"
   },
   {
    "duration": 40,
    "start_time": "2025-02-05T10:55:44.618Z"
   },
   {
    "duration": 598,
    "start_time": "2025-02-05T10:55:44.660Z"
   },
   {
    "duration": 133,
    "start_time": "2025-02-05T10:55:45.260Z"
   },
   {
    "duration": 10,
    "start_time": "2025-02-05T10:55:45.394Z"
   },
   {
    "duration": 98,
    "start_time": "2025-02-05T10:55:45.406Z"
   },
   {
    "duration": 699,
    "start_time": "2025-02-05T10:55:45.506Z"
   },
   {
    "duration": 5,
    "start_time": "2025-02-05T10:55:46.206Z"
   },
   {
    "duration": 280,
    "start_time": "2025-02-05T10:55:46.214Z"
   },
   {
    "duration": 0,
    "start_time": "2025-02-05T10:55:46.496Z"
   },
   {
    "duration": 0,
    "start_time": "2025-02-05T10:55:46.497Z"
   },
   {
    "duration": 4,
    "start_time": "2025-02-05T10:57:10.269Z"
   },
   {
    "duration": 88,
    "start_time": "2025-02-05T10:57:11.123Z"
   },
   {
    "duration": 3,
    "start_time": "2025-02-05T10:57:57.838Z"
   },
   {
    "duration": 27,
    "start_time": "2025-02-05T10:58:00.128Z"
   },
   {
    "duration": 16,
    "start_time": "2025-02-05T10:58:59.127Z"
   },
   {
    "duration": 4,
    "start_time": "2025-02-05T10:59:06.050Z"
   },
   {
    "duration": 1067,
    "start_time": "2025-02-05T11:19:37.035Z"
   },
   {
    "duration": 420,
    "start_time": "2025-02-05T11:19:38.104Z"
   },
   {
    "duration": 181,
    "start_time": "2025-02-05T11:19:38.526Z"
   },
   {
    "duration": 6,
    "start_time": "2025-02-05T11:19:38.709Z"
   },
   {
    "duration": 104,
    "start_time": "2025-02-05T11:19:38.717Z"
   },
   {
    "duration": 1333,
    "start_time": "2025-02-05T11:19:38.823Z"
   },
   {
    "duration": 43,
    "start_time": "2025-02-05T11:19:40.158Z"
   },
   {
    "duration": 607,
    "start_time": "2025-02-05T11:19:40.203Z"
   },
   {
    "duration": 122,
    "start_time": "2025-02-05T11:19:40.812Z"
   },
   {
    "duration": 11,
    "start_time": "2025-02-05T11:19:40.936Z"
   },
   {
    "duration": 98,
    "start_time": "2025-02-05T11:19:40.949Z"
   },
   {
    "duration": 700,
    "start_time": "2025-02-05T11:19:41.048Z"
   },
   {
    "duration": 3,
    "start_time": "2025-02-05T11:19:41.750Z"
   },
   {
    "duration": 1107,
    "start_time": "2025-02-06T00:32:55.194Z"
   },
   {
    "duration": 416,
    "start_time": "2025-02-06T00:32:56.304Z"
   },
   {
    "duration": 161,
    "start_time": "2025-02-06T00:32:56.725Z"
   },
   {
    "duration": 5,
    "start_time": "2025-02-06T00:32:56.889Z"
   },
   {
    "duration": 100,
    "start_time": "2025-02-06T00:32:56.897Z"
   },
   {
    "duration": 1344,
    "start_time": "2025-02-06T00:32:56.999Z"
   },
   {
    "duration": 45,
    "start_time": "2025-02-06T00:32:58.345Z"
   },
   {
    "duration": 583,
    "start_time": "2025-02-06T00:32:58.392Z"
   },
   {
    "duration": 134,
    "start_time": "2025-02-06T00:32:58.977Z"
   },
   {
    "duration": 11,
    "start_time": "2025-02-06T00:32:59.114Z"
   },
   {
    "duration": 109,
    "start_time": "2025-02-06T00:32:59.127Z"
   },
   {
    "duration": 737,
    "start_time": "2025-02-06T00:32:59.239Z"
   },
   {
    "duration": 3,
    "start_time": "2025-02-06T00:32:59.978Z"
   },
   {
    "duration": 1071,
    "start_time": "2025-02-06T00:53:23.068Z"
   },
   {
    "duration": 410,
    "start_time": "2025-02-06T00:53:24.141Z"
   },
   {
    "duration": 157,
    "start_time": "2025-02-06T00:53:24.552Z"
   },
   {
    "duration": 14,
    "start_time": "2025-02-06T00:53:24.711Z"
   },
   {
    "duration": 87,
    "start_time": "2025-02-06T00:53:24.727Z"
   },
   {
    "duration": 1259,
    "start_time": "2025-02-06T00:53:24.816Z"
   },
   {
    "duration": 52,
    "start_time": "2025-02-06T00:53:26.077Z"
   },
   {
    "duration": 615,
    "start_time": "2025-02-06T00:53:26.132Z"
   },
   {
    "duration": 135,
    "start_time": "2025-02-06T00:53:26.749Z"
   },
   {
    "duration": 10,
    "start_time": "2025-02-06T00:53:26.886Z"
   },
   {
    "duration": 97,
    "start_time": "2025-02-06T00:53:26.898Z"
   },
   {
    "duration": 716,
    "start_time": "2025-02-06T00:53:26.997Z"
   },
   {
    "duration": 10,
    "start_time": "2025-02-06T00:53:27.715Z"
   },
   {
    "duration": 1121,
    "start_time": "2025-02-06T02:00:16.077Z"
   },
   {
    "duration": 434,
    "start_time": "2025-02-06T02:00:17.200Z"
   },
   {
    "duration": 170,
    "start_time": "2025-02-06T02:00:17.636Z"
   },
   {
    "duration": 5,
    "start_time": "2025-02-06T02:00:17.809Z"
   },
   {
    "duration": 90,
    "start_time": "2025-02-06T02:00:17.825Z"
   },
   {
    "duration": 1332,
    "start_time": "2025-02-06T02:00:17.916Z"
   },
   {
    "duration": 44,
    "start_time": "2025-02-06T02:00:19.250Z"
   },
   {
    "duration": 606,
    "start_time": "2025-02-06T02:00:19.295Z"
   },
   {
    "duration": 131,
    "start_time": "2025-02-06T02:00:19.903Z"
   },
   {
    "duration": 9,
    "start_time": "2025-02-06T02:00:20.037Z"
   },
   {
    "duration": 110,
    "start_time": "2025-02-06T02:00:20.048Z"
   },
   {
    "duration": 731,
    "start_time": "2025-02-06T02:00:20.160Z"
   },
   {
    "duration": 3,
    "start_time": "2025-02-06T02:00:20.893Z"
   },
   {
    "duration": 71827,
    "start_time": "2025-02-06T02:00:20.898Z"
   },
   {
    "duration": 0,
    "start_time": "2025-02-06T02:01:32.726Z"
   },
   {
    "duration": 0,
    "start_time": "2025-02-06T02:01:32.728Z"
   },
   {
    "duration": 1105,
    "start_time": "2025-02-06T02:17:53.793Z"
   },
   {
    "duration": 424,
    "start_time": "2025-02-06T02:17:54.900Z"
   },
   {
    "duration": 195,
    "start_time": "2025-02-06T02:17:55.326Z"
   },
   {
    "duration": 5,
    "start_time": "2025-02-06T02:17:55.525Z"
   },
   {
    "duration": 99,
    "start_time": "2025-02-06T02:17:55.532Z"
   },
   {
    "duration": 1292,
    "start_time": "2025-02-06T02:17:55.632Z"
   },
   {
    "duration": 43,
    "start_time": "2025-02-06T02:17:56.925Z"
   },
   {
    "duration": 628,
    "start_time": "2025-02-06T02:17:56.970Z"
   },
   {
    "duration": 135,
    "start_time": "2025-02-06T02:17:57.600Z"
   },
   {
    "duration": 12,
    "start_time": "2025-02-06T02:17:57.739Z"
   },
   {
    "duration": 117,
    "start_time": "2025-02-06T02:17:57.753Z"
   },
   {
    "duration": 827,
    "start_time": "2025-02-06T02:17:57.871Z"
   },
   {
    "duration": 4,
    "start_time": "2025-02-06T02:17:58.700Z"
   },
   {
    "duration": 71277,
    "start_time": "2025-02-06T02:17:58.706Z"
   },
   {
    "duration": 0,
    "start_time": "2025-02-06T02:19:09.985Z"
   },
   {
    "duration": 0,
    "start_time": "2025-02-06T02:19:09.986Z"
   },
   {
    "duration": 76524,
    "start_time": "2025-02-06T02:19:33.411Z"
   },
   {
    "duration": 629904,
    "start_time": "2025-02-06T02:27:21.947Z"
   },
   {
    "duration": 609338,
    "start_time": "2025-02-06T02:38:24.688Z"
   },
   {
    "duration": 285,
    "start_time": "2025-02-06T02:51:36.894Z"
   },
   {
    "duration": 335,
    "start_time": "2025-02-06T02:51:39.905Z"
   },
   {
    "duration": 15,
    "start_time": "2025-02-06T02:53:44.450Z"
   },
   {
    "duration": 15,
    "start_time": "2025-02-06T02:54:09.991Z"
   },
   {
    "duration": 2097,
    "start_time": "2025-02-06T02:54:31.041Z"
   }
  ],
  "kernelspec": {
   "display_name": "Python 3 (ipykernel)",
   "language": "python",
   "name": "python3"
  },
  "language_info": {
   "codemirror_mode": {
    "name": "ipython",
    "version": 3
   },
   "file_extension": ".py",
   "mimetype": "text/x-python",
   "name": "python",
   "nbconvert_exporter": "python",
   "pygments_lexer": "ipython3",
   "version": "3.9.19"
  },
  "toc": {
   "base_numbering": 1,
   "nav_menu": {},
   "number_sections": true,
   "sideBar": true,
   "skip_h1_title": true,
   "title_cell": "Table of Contents",
   "title_sidebar": "Contents",
   "toc_cell": false,
   "toc_position": {
    "height": "calc(100% - 180px)",
    "left": "10px",
    "top": "150px",
    "width": "229.6px"
   },
   "toc_section_display": true,
   "toc_window_display": true
  }
 },
 "nbformat": 4,
 "nbformat_minor": 2
}
