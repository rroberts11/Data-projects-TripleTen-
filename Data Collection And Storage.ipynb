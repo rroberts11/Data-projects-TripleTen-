{
 "cells": [
  {
   "cell_type": "markdown",
   "metadata": {},
   "source": [
    "<div class=\"alert alert-block alert-success\">\n",
    "<b>Overall reviewer's comment. V.2.</b> <a class=\"tocSkip\"></a>\n",
    "  \n",
    "Hello Ryan!\n",
    "\n",
    "Thank you for your corrections! \n",
    "    \n",
    "Congratulations again on your accomplishment! Each project you complete adds to your growing expertise, and it’s exciting to see you make such great strides. Keep up the great work! 🎯"
   ]
  },
  {
   "cell_type": "markdown",
   "metadata": {},
   "source": [
    "<div class=\"alert alert-block alert-warning\">\n",
    "<b>Overall reviewer's comment. V.1.5.</b> <a class=\"tocSkip\"></a>\n",
    "  \n",
    "Hello Ryan!\n",
    "\n",
    "Please check my comments, we need a little bit more work."
   ]
  },
  {
   "cell_type": "markdown",
   "metadata": {},
   "source": [
    "<div class=\"alert alert-block alert-success\">\n",
    "<b>Overall reviewer's comment</b> <a class=\"tocSkip\"></a>\n",
    "\n",
    "Ryan, thank you for sending your project. You've done a really good job on it! You write a clear code, and plot a good graphs.\n",
    "    \n",
    "<span class=\"text-danger\">There are few things that need to be corrected in your project. They're mostly minor issues that are easy to fix. Could you check my comments?  Do not hesitate to ask your tutor for help, if you have any problems!</span>\n",
    "    \n",
    "    \n",
    "Waiting for the new version!\n",
    "    \n",
    "</div>"
   ]
  },
  {
   "cell_type": "markdown",
   "metadata": {},
   "source": [
    "Please find my comments below—**I kindly ask that you do not move, modify, or delete them**.\n",
    "\n",
    "You can find my comments in green, yellow or red boxes like this:\n",
    "\n",
    "<div class=\"alert alert-block alert-success\">\n",
    "<b>Reviewer's comment</b> <a class=\"tocSkip\"></a>\n",
    "\n",
    "Success. Everything is done succesfully.\n",
    "\n",
    "</div>\n",
    "\n",
    "<div class=\"alert alert-block alert-warning\">\n",
    "<b>Reviewer's comment</b> <a class=\"tocSkip\"></a>\n",
    "\n",
    "Remarks. Some recommendations.\n",
    "\n",
    "</div>\n",
    "\n",
    "<div class=\"alert alert-block alert-danger\">\n",
    "<b>Reviewer's comment</b> <a class=\"tocSkip\"></a>\n",
    "\n",
    "Needs fixing. The block requires some corrections. Work can't be accepted with the red comments.\n",
    "\n",
    "</div>\n",
    "\n",
    "You can answer me by using this: \n",
    "\n",
    "<div class=\"alert alert-block alert-info\">\n",
    "<b>Student answer</b> <a class=\"tocSkip\"></a>\n",
    "\n",
    "</div>\n"
   ]
  },
  {
   "cell_type": "markdown",
   "metadata": {},
   "source": [
    "# Taxi Company Analysis and the Impact of Weather on Ride Durations"
   ]
  },
  {
   "cell_type": "markdown",
   "metadata": {},
   "source": [
    "<div class=\"alert alert-block alert-danger\">\n",
    "<s><b>Reviewer's comment<s></b> <a class=\"tocSkip\"></a>\n",
    "\n",
    "Please add a title and project desription.\n",
    "</div>"
   ]
  },
  {
   "cell_type": "markdown",
   "metadata": {},
   "source": [
    "<div class=\"alert alert-block alert-success\">\n",
    "<b>Reviewer's comment. V.2.<s></b> <a class=\"tocSkip\"></a>\n",
    "\n",
    "Well done!\n",
    "</div>"
   ]
  },
  {
   "cell_type": "markdown",
   "metadata": {},
   "source": [
    "This project examines taxi trip data in Chicago, focusing on taxi company performance, popular drop-off neighborhoods, and the effect of rainy weather on ride durations from the Loop to O'Hare International Airport."
   ]
  },
  {
   "cell_type": "code",
   "execution_count": 1,
   "metadata": {},
   "outputs": [],
   "source": [
    "import pandas as pd\n",
    "import matplotlib.pyplot as plt\n",
    "import seaborn as sns\n",
    "import numpy as np\n",
    "\n",
    "from scipy.stats import ttest_ind"
   ]
  },
  {
   "cell_type": "code",
   "execution_count": 2,
   "metadata": {},
   "outputs": [],
   "source": [
    "# Load datasets\n",
    "taxi_companies = pd.read_csv('/datasets/project_sql_result_01.csv')\n",
    "neighborhoods = pd.read_csv('/datasets/project_sql_result_04.csv') "
   ]
  },
  {
   "cell_type": "markdown",
   "metadata": {},
   "source": [
    "## EDA"
   ]
  },
  {
   "cell_type": "code",
   "execution_count": 3,
   "metadata": {},
   "outputs": [
    {
     "name": "stdout",
     "output_type": "stream",
     "text": [
      "                      company_name  trips_amount\n",
      "0                        Flash Cab         19558\n",
      "1        Taxi Affiliation Services         11422\n",
      "2                Medallion Leasing         10367\n",
      "3                       Yellow Cab          9888\n",
      "4  Taxi Affiliation Service Yellow          9299\n",
      "<class 'pandas.core.frame.DataFrame'>\n",
      "RangeIndex: 64 entries, 0 to 63\n",
      "Data columns (total 2 columns):\n",
      " #   Column        Non-Null Count  Dtype \n",
      "---  ------        --------------  ----- \n",
      " 0   company_name  64 non-null     object\n",
      " 1   trips_amount  64 non-null     int64 \n",
      "dtypes: int64(1), object(1)\n",
      "memory usage: 1.1+ KB\n",
      "None\n",
      "  dropoff_location_name  average_trips\n",
      "0                  Loop   10727.466667\n",
      "1           River North    9523.666667\n",
      "2         Streeterville    6664.666667\n",
      "3             West Loop    5163.666667\n",
      "4                O'Hare    2546.900000\n",
      "<class 'pandas.core.frame.DataFrame'>\n",
      "RangeIndex: 94 entries, 0 to 93\n",
      "Data columns (total 2 columns):\n",
      " #   Column                 Non-Null Count  Dtype  \n",
      "---  ------                 --------------  -----  \n",
      " 0   dropoff_location_name  94 non-null     object \n",
      " 1   average_trips          94 non-null     float64\n",
      "dtypes: float64(1), object(1)\n",
      "memory usage: 1.6+ KB\n",
      "None\n"
     ]
    }
   ],
   "source": [
    "# Check the first few rows and data types\n",
    "print(taxi_companies.head())\n",
    "print(taxi_companies.info())\n",
    "print(neighborhoods.head())\n",
    "print(neighborhoods.info())"
   ]
  },
  {
   "cell_type": "code",
   "execution_count": 4,
   "metadata": {},
   "outputs": [],
   "source": [
    " # round up average trips to nearest decimal\n",
    "\n",
    "neighborhoods['average_trips'] = np.ceil(neighborhoods['average_trips'] * 10) / 10"
   ]
  },
  {
   "cell_type": "code",
   "execution_count": 5,
   "metadata": {},
   "outputs": [
    {
     "data": {
      "text/plain": [
       "0     10727.5\n",
       "1      9523.7\n",
       "2      6664.7\n",
       "3      5163.7\n",
       "4      2546.9\n",
       "       ...   \n",
       "89        3.2\n",
       "90        3.2\n",
       "91        2.4\n",
       "92        2.0\n",
       "93        1.8\n",
       "Name: average_trips, Length: 94, dtype: float64"
      ]
     },
     "execution_count": 5,
     "metadata": {},
     "output_type": "execute_result"
    }
   ],
   "source": [
    "# check average_trips column\n",
    "\n",
    "neighborhoods['average_trips']"
   ]
  },
  {
   "cell_type": "markdown",
   "metadata": {},
   "source": [
    "### Check for  top 10 neighborhoods"
   ]
  },
  {
   "cell_type": "code",
   "execution_count": 6,
   "metadata": {},
   "outputs": [
    {
     "name": "stdout",
     "output_type": "stream",
     "text": [
      "  dropoff_location_name  average_trips\n",
      "0                  Loop        10727.5\n",
      "1           River North         9523.7\n",
      "2         Streeterville         6664.7\n",
      "3             West Loop         5163.7\n",
      "4                O'Hare         2546.9\n",
      "5             Lake View         2421.0\n",
      "6            Grant Park         2068.6\n",
      "7         Museum Campus         1510.0\n",
      "8            Gold Coast         1364.3\n",
      "9    Sheffield & DePaul         1259.8\n"
     ]
    }
   ],
   "source": [
    "# Sort and get top 10 neighborhoods\n",
    "top_10_neighborhoods = neighborhoods.sort_values(by='average_trips', ascending=False).head(10)\n",
    "print(top_10_neighborhoods)"
   ]
  },
  {
   "cell_type": "markdown",
   "metadata": {},
   "source": [
    "### Check for missing values"
   ]
  },
  {
   "cell_type": "code",
   "execution_count": 7,
   "metadata": {},
   "outputs": [
    {
     "data": {
      "text/plain": [
       "company_name    0\n",
       "trips_amount    0\n",
       "dtype: int64"
      ]
     },
     "execution_count": 7,
     "metadata": {},
     "output_type": "execute_result"
    }
   ],
   "source": [
    "taxi_companies.isna().sum()"
   ]
  },
  {
   "cell_type": "code",
   "execution_count": 8,
   "metadata": {},
   "outputs": [
    {
     "data": {
      "text/plain": [
       "dropoff_location_name    0\n",
       "average_trips            0\n",
       "dtype: int64"
      ]
     },
     "execution_count": 8,
     "metadata": {},
     "output_type": "execute_result"
    }
   ],
   "source": [
    "neighborhoods.isna().sum()"
   ]
  },
  {
   "cell_type": "markdown",
   "metadata": {},
   "source": [
    "### Check for duplicates"
   ]
  },
  {
   "cell_type": "code",
   "execution_count": 9,
   "metadata": {},
   "outputs": [
    {
     "data": {
      "text/plain": [
       "0"
      ]
     },
     "execution_count": 9,
     "metadata": {},
     "output_type": "execute_result"
    }
   ],
   "source": [
    "taxi_companies.duplicated().sum()"
   ]
  },
  {
   "cell_type": "code",
   "execution_count": 10,
   "metadata": {},
   "outputs": [
    {
     "data": {
      "text/plain": [
       "0"
      ]
     },
     "execution_count": 10,
     "metadata": {},
     "output_type": "execute_result"
    }
   ],
   "source": [
    "neighborhoods.duplicated().sum()"
   ]
  },
  {
   "cell_type": "markdown",
   "metadata": {},
   "source": [
    "<div class=\"alert alert-block alert-success\">\n",
    "<b>Reviewer's comment</b> <a class=\"tocSkip\"></a>\n",
    "\n",
    "Good start! We have our datasets!\n",
    "    \n",
    "</div>\n",
    "\n",
    "<div class=\"alert alert-block alert-danger\">\n",
    "<s><b>Reviewer's comment</b> <a class=\"tocSkip\"></a>\n",
    "\n",
    "We should check missing values, duplicates, etc. Please add a conclusion after first part.\n",
    "\n",
    "</div>"
   ]
  },
  {
   "cell_type": "markdown",
   "metadata": {},
   "source": [
    "The data appears to be in good tact. There are no duplicates or missing values in either dataset. The data types are also good as is. The only thing I've decided to change with the data is to round up to the nearest decimal for 'average_trips' in the 'neighborhoods' dataset."
   ]
  },
  {
   "cell_type": "markdown",
   "metadata": {},
   "source": [
    "<div class=\"alert alert-block alert-success\">\n",
    "<b>Reviewer's comment. V.2.<s></b> <a class=\"tocSkip\"></a>\n",
    "\n",
    "Great!\n",
    "</div>"
   ]
  },
  {
   "cell_type": "markdown",
   "metadata": {},
   "source": [
    "## CHARTS"
   ]
  },
  {
   "cell_type": "code",
   "execution_count": 11,
   "metadata": {},
   "outputs": [
    {
     "data": {
      "image/png": "[encoded data removed]",
      "text/plain": [
       "<Figure size 1000x600 with 1 Axes>"
      ]
     },
     "metadata": {},
     "output_type": "display_data"
    }
   ],
   "source": [
    "top_10_companies = taxi_companies.sort_values(by='trips_amount', ascending=False).head(10)\n",
    "\n",
    "# Bar Chart for Top 10 Taxi Companies\n",
    "plt.figure(figsize=(10, 6))\n",
    "sns.barplot(data=top_10_companies, x='company_name', y='trips_amount', palette=\"viridis\")\n",
    "plt.title(\"Top Ten Taxi Companies: Number of Rides\")\n",
    "plt.xlabel(\"Taxi Company\")\n",
    "plt.ylabel(\"Number of Rides\")\n",
    "plt.xticks(rotation=90)  \n",
    "plt.show()"
   ]
  },
  {
   "cell_type": "markdown",
   "metadata": {},
   "source": [
    "Flash Cab has a significant market advantage, holding a leading position that isn’t closely challenged by any other company. The remaining companies are fairly competitive with each other, indicating room for further differentiation in services or market strategies among these companies to potentially increase their market share."
   ]
  },
  {
   "cell_type": "markdown",
   "metadata": {},
   "source": [
    "<div class=\"alert alert-block alert-danger\">\n",
    "<s><b>Reviewer's comment</b> <a class=\"tocSkip\"></a>\n",
    "\n",
    "Please check your calculations, we need to sort values and sho top 10 only. Please add a conclusion after graph.\n",
    "</div>"
   ]
  },
  {
   "cell_type": "markdown",
   "metadata": {},
   "source": [
    "<div class=\"alert alert-block alert-danger\">\n",
    "<s><b>Reviewer's comment. V.2.<s></b> <a class=\"tocSkip\"></a>\n",
    "\n",
    "Please check the code, we have an error here.\n",
    "</div>\n",
    "    \n",
    "<div class=\"alert alert-block alert-success\">\n",
    "<b>Reviewer's comment. V.2.<s></b> <a class=\"tocSkip\"></a>\n",
    "\n",
    "Well done! Now everything is good.\n",
    "</div>"
   ]
  },
  {
   "cell_type": "code",
   "execution_count": 12,
   "metadata": {},
   "outputs": [
    {
     "data": {
      "image/png": "[encoded data removed]",
      "text/plain": [
       "<Figure size 1000x600 with 1 Axes>"
      ]
     },
     "metadata": {},
     "output_type": "display_data"
    }
   ],
   "source": [
    "# Bar Chart for Top 10 Neighborhoods by Drop-offs:\n",
    "plt.figure(figsize=(10, 6))\n",
    "sns.barplot(data=top_10_neighborhoods, x='dropoff_location_name', y='average_trips', palette=\"magma\")\n",
    "plt.title(\"Top 10 Neighborhoods: Average Drop-offs\")\n",
    "plt.xlabel(\"Neighborhood\")\n",
    "plt.ylabel(\"Average Number of Drop-offs\")\n",
    "plt.xticks(rotation=90)\n",
    "plt.show()"
   ]
  },
  {
   "cell_type": "markdown",
   "metadata": {},
   "source": [
    "The data shows a sharp drop from the highest-ranked neighborhood, Loop, which leads with over 10,000 average drop-offs, followed closely by River North. There is a significant gap between these two leading neighborhoods and the rest, with Streeterville and West Loop having around 6,000 and 5,000 drop-offs, respectively.\n",
    "\n",
    "The remaining neighborhoods, such as O'Hare, Lake View, and Grant Park, average around 2000 or less, while Museum Campus, Gold Coast, and Sheffield & DePaul show the lowest numbers in this top ten list. This distribution suggests that Loop and River North are the most popular drop-off locations, likely due to their central locations and commercial significance. The chart highlights a clear concentration of drop-offs in a few key neighborhoods, indicating potential areas of high demand for transportation services."
   ]
  },
  {
   "cell_type": "markdown",
   "metadata": {},
   "source": [
    "<div class=\"alert alert-block alert-success\">\n",
    "<b>Reviewer's comment</b> <a class=\"tocSkip\"></a>\n",
    "\n",
    "Well done! Good locations = more popularity!\n",
    "\n",
    "</div>\n",
    "\n",
    "<div class=\"alert alert-block alert-danger\">\n",
    "<s><b>Reviewer's comment</b> <a class=\"tocSkip\"></a>\n",
    "\n",
    "We should write a conclusion after each graph, please add it.\n",
    "\n",
    "\n",
    "</div>\n",
    "\n",
    "<div class=\"alert alert-block alert-success\">\n",
    "<b>Reviewer's comment. V.2.<s></b> <a class=\"tocSkip\"></a>\n",
    "\n",
    "Perfect!</div>"
   ]
  },
  {
   "cell_type": "markdown",
   "metadata": {},
   "source": [
    "## Hypothesis Testing – Rides from Loop to O’Hare Airport"
   ]
  },
  {
   "cell_type": "markdown",
   "metadata": {},
   "source": [
    "For this project, the goal is to determine if rain affects the duration of taxi rides from the Loop to O'Hare International Airport on Saturdays.\n",
    "\n",
    "Null Hypothesis (\n",
    "𝐻\n",
    "0\n",
    "​\n",
    " ): The average duration of rides from the Loop to O'Hare International Airport on Saturdays does not differ on rainy days compared to non-rainy days. Mathematically:\n",
    "\n",
    "𝜇\n",
    "rainy\n",
    "=\n",
    "𝜇\n",
    "non-rainy\n",
    "\n",
    "Alternative Hypothesis (\n",
    "𝐻\n",
    "1\n",
    "​\n",
    " ): The average duration of rides from the Loop to O'Hare International Airport on Saturdays differs on rainy days compared to non-rainy days.\n",
    "\n",
    "𝜇\n",
    "rainy\n",
    "≠\n",
    "𝜇\n",
    "non-rainy\n",
    "\n"
   ]
  },
  {
   "cell_type": "code",
   "execution_count": 13,
   "metadata": {},
   "outputs": [],
   "source": [
    "rides_df = pd.read_csv('/datasets/project_sql_result_07.csv')\n",
    "\n",
    "# Convert start timestamp to datetime\n",
    "rides_df['start_ts'] = pd.to_datetime(rides_df['start_ts'])\n",
    "\n",
    "# Filter for Saturdays\n",
    "rides_df['day_of_week'] = rides_df['start_ts'].dt.day_name()\n",
    "saturday_rides = rides_df[rides_df['day_of_week'] == 'Saturday']\n",
    "\n",
    "# Separate rainy and non-rainy rides\n",
    "rainy_saturdays = saturday_rides[saturday_rides['weather_conditions'] == 'Bad']\n",
    "non_rainy_saturdays = saturday_rides[saturday_rides['weather_conditions'] != 'Bad']\n"
   ]
  },
  {
   "cell_type": "code",
   "execution_count": 14,
   "metadata": {},
   "outputs": [
    {
     "name": "stdout",
     "output_type": "stream",
     "text": [
      "T-test statistic: 7.186034288068629\n",
      "P-value: 6.738994326108734e-12\n",
      "Conclusion: We reject the null hypothesis. There is a significant difference in duration_seconds between rainy and non-rainy Saturdays.\n"
     ]
    }
   ],
   "source": [
    "# Perform t-test\n",
    "stat, p_value = ttest_ind(rainy_saturdays['duration_seconds'], non_rainy_saturdays['duration_seconds'], equal_var=False)\n",
    "\n",
    "# Output the test statistic and p-value\n",
    "print(\"T-test statistic:\", stat)\n",
    "print(\"P-value:\", p_value)\n",
    "\n",
    "# Conclusion based on p-value and chosen alpha (e.g., alpha = 0.05)\n",
    "alpha = 0.05\n",
    "if p_value < alpha:\n",
    "    print(\"Conclusion: We reject the null hypothesis. There is a significant difference in duration_seconds between rainy and non-rainy Saturdays.\")\n",
    "else:\n",
    "    print(\"Conclusion: We fail to reject the null hypothesis. There is no significant difference in duration_seconds between rainy and non-rainy Saturdays.\")"
   ]
  },
  {
   "cell_type": "markdown",
   "metadata": {},
   "source": [
    "T-statistic (7.19): This high value suggests a meaningful difference in the average duration of rides under rainy versus non-rainy conditions.\n",
    "\n",
    "P-value (6.74e-12): This extremely low p-value implies that the observed difference is highly unlikely to be due to random chance alone, supporting the idea that rainy weather significantly impacts ride duration.\n",
    "\n",
    "This is a two-tailed test because we’re interested in any difference in ride duration, regardless of whether rain increases or decreases it."
   ]
  },
  {
   "cell_type": "markdown",
   "metadata": {},
   "source": [
    "### I used an independent two-sample t-test to test the hypotheses. Here's why:\n",
    "\n",
    "Independent Samples: Since the ride durations on rainy and non-rainy Saturdays are two separate groups with no relationship between observations, they qualify as independent samples.\n",
    "T-Test: This test compares the means of two independent groups to see if there is a statistically significant difference. The t-test is suitable here because:\n",
    "The sample sizes are reasonable, especially for the non-rainy group, and the Central Limit Theorem suggests the sample means will be approximately normally distributed.\n",
    "Although an assumption of equal variance was not explicitly confirmed, the test can accommodate this by specifying equal_var=False, which is what I did.\n",
    "\n"
   ]
  },
  {
   "cell_type": "markdown",
   "metadata": {},
   "source": [
    "### Why Use a Two-Tailed Test?\n",
    "A two-tailed test was chosen because there was no prior assumption that rainy weather would specifically increase or decrease ride duration. We only hypothesized that rain would cause a difference.\n",
    "\n",
    "Significance Level\n",
    "Chosen Alpha (\n",
    "𝛼 ): We set a standard significance level of 0.05, meaning we'd reject the null hypothesis if the p-value was less than 0.05.\n",
    "Given the calculated t-statistic of 7.19 and p-value of \n",
    "6.74\n",
    "×\n",
    "1\n",
    "0\n",
    "−\n",
    "12\n",
    "6.74×10 \n",
    "−12\n",
    " , we reject the null hypothesis. This suggests that rainy conditions do indeed impact the duration of these rides significantly.\n",
    "\n",
    "\n",
    "\n",
    "\n",
    "\n",
    "\n"
   ]
  },
  {
   "cell_type": "markdown",
   "metadata": {},
   "source": [
    "<div class=\"alert alert-block alert-danger\">\n",
    "<s><b>Reviewer's comment</b> <a class=\"tocSkip\"></a>\n",
    "\n",
    "You are on the right way! Great, we choosed correct alpha and test.\n",
    "\n",
    "Very good that we checked results by test and thank you for the graphs. It gives us the total picture.\n",
    "\n",
    "Please do not forget to show in the code what hypothesis we should choose and add it in conclusion.\n",
    "\n",
    "</div>"
   ]
  },
  {
   "cell_type": "markdown",
   "metadata": {},
   "source": [
    "<div class=\"alert alert-block alert-success\">\n",
    "<b>Reviewer's comment. V.2.<s></b> <a class=\"tocSkip\"></a>\n",
    "\n",
    "Escellent!\n",
    "</div>"
   ]
  },
  {
   "cell_type": "markdown",
   "metadata": {},
   "source": [
    "# Conclusion "
   ]
  },
  {
   "cell_type": "markdown",
   "metadata": {},
   "source": [
    "This project provides an in-depth analysis of Chicago's taxi industry, examining taxi company performance, popular drop-off locations, and the influence of rainy weather on ride durations from the Loop to O'Hare International Airport.\n",
    "\n",
    "The data shows that Flash Cab leads the market by a large margin, with the highest number of rides among all taxi companies. Other companies follow with relatively lower, but competitive, ride counts, suggesting an opportunity for further market differentiation in services or strategies.\n",
    "\n",
    "In terms of drop-off locations, Loop and River North stand out as the most popular neighborhoods for drop-offs, each averaging over 10,000 trips. This concentration highlights high-demand areas in Chicago, likely driven by the neighborhoods' commercial importance and central location. The popularity sharply declines after the top two, with locations like Streeterville, West Loop, and O'Hare seeing significantly lower drop-offs, averaging around 6,000 or fewer trips.\n",
    "\n",
    "Lastly, a hypothesis test was conducted to explore the effect of rainy weather on Saturday taxi ride durations from the Loop to O'Hare. The results indicate whether rain significantly impacts ride durations, providing insights that could be useful for drivers and customers planning travel on rainy days.\n",
    "\n",
    "Overall, the project demonstrates important trends in taxi demand, popular destinations, and the impact of weather, providing valuable information for taxi operators, city planners, and potential passengers."
   ]
  },
  {
   "cell_type": "markdown",
   "metadata": {},
   "source": [
    "<div class=\"alert alert-block alert-danger\">\n",
    "<s><b>Reviewer's comment</b> <a class=\"tocSkip\"></a>\n",
    "\n",
    "Also, we should write a final conclusion about whole project.\n",
    "</div>\n",
    "\n",
    "<div class=\"alert alert-block alert-danger\">\n",
    "<s><b>Reviewer's comment. V.2.<s></b> <a class=\"tocSkip\"></a>\n",
    "\n",
    "We should add more details.\n",
    "</div>"
   ]
  },
  {
   "cell_type": "markdown",
   "metadata": {},
   "source": [
    "<div class=\"alert alert-block alert-success\">\n",
    "<b>Reviewer's comment. V.2.<s></b> <a class=\"tocSkip\"></a>\n",
    "\n",
    "Thank you!\n",
    "</div>"
   ]
  }
 ],
 "metadata": {
  "ExecuteTimeLog": [
   {
    "duration": 326,
    "start_time": "2024-10-24T21:26:49.081Z"
   },
   {
    "duration": 8,
    "start_time": "2024-10-24T21:28:00.494Z"
   },
   {
    "duration": 11,
    "start_time": "2024-10-24T21:28:03.121Z"
   },
   {
    "duration": 5,
    "start_time": "2024-10-24T21:28:13.501Z"
   },
   {
    "duration": 7,
    "start_time": "2024-10-24T21:28:27.830Z"
   },
   {
    "duration": 5,
    "start_time": "2024-10-24T21:28:32.126Z"
   },
   {
    "duration": 5,
    "start_time": "2024-10-24T21:28:50.560Z"
   },
   {
    "duration": 6,
    "start_time": "2024-10-24T21:30:02.408Z"
   },
   {
    "duration": 176,
    "start_time": "2024-10-24T21:32:54.413Z"
   },
   {
    "duration": 10,
    "start_time": "2024-10-24T21:32:57.192Z"
   },
   {
    "duration": 9,
    "start_time": "2024-10-24T21:32:58.397Z"
   },
   {
    "duration": 6,
    "start_time": "2024-10-24T21:33:09.775Z"
   },
   {
    "duration": 9,
    "start_time": "2024-10-24T21:33:51.541Z"
   },
   {
    "duration": 13,
    "start_time": "2024-10-24T21:34:09.538Z"
   },
   {
    "duration": 5,
    "start_time": "2024-10-24T21:34:24.217Z"
   },
   {
    "duration": 89,
    "start_time": "2024-10-24T21:39:06.416Z"
   },
   {
    "duration": 3,
    "start_time": "2024-10-24T21:39:54.245Z"
   },
   {
    "duration": 6,
    "start_time": "2024-10-24T21:40:15.497Z"
   },
   {
    "duration": 8,
    "start_time": "2024-10-24T21:59:02.200Z"
   },
   {
    "duration": 156,
    "start_time": "2024-10-27T13:43:20.715Z"
   },
   {
    "duration": 12,
    "start_time": "2024-10-27T13:43:23.523Z"
   },
   {
    "duration": 305,
    "start_time": "2024-10-27T13:43:27.505Z"
   },
   {
    "duration": 13,
    "start_time": "2024-10-27T13:43:28.777Z"
   },
   {
    "duration": 17,
    "start_time": "2024-10-27T13:43:30.311Z"
   },
   {
    "duration": 34,
    "start_time": "2024-10-27T13:48:30.841Z"
   },
   {
    "duration": 6,
    "start_time": "2024-10-27T13:48:46.442Z"
   },
   {
    "duration": 11,
    "start_time": "2024-10-27T13:48:49.881Z"
   },
   {
    "duration": 3,
    "start_time": "2024-10-27T13:48:59.304Z"
   },
   {
    "duration": 5,
    "start_time": "2024-10-27T13:49:01.061Z"
   },
   {
    "duration": 17,
    "start_time": "2024-10-27T13:52:54.130Z"
   },
   {
    "duration": 2241,
    "start_time": "2024-10-27T13:53:12.450Z"
   },
   {
    "duration": 12,
    "start_time": "2024-10-27T13:53:14.693Z"
   },
   {
    "duration": 15,
    "start_time": "2024-10-27T13:53:14.787Z"
   },
   {
    "duration": 3,
    "start_time": "2024-10-27T13:53:17.856Z"
   },
   {
    "duration": 4,
    "start_time": "2024-10-27T13:53:19.650Z"
   },
   {
    "duration": 56,
    "start_time": "2024-10-27T13:53:20.286Z"
   },
   {
    "duration": 1113,
    "start_time": "2024-10-27T13:53:27.512Z"
   },
   {
    "duration": 1055,
    "start_time": "2024-10-27T13:56:21.479Z"
   },
   {
    "duration": 17,
    "start_time": "2024-10-27T14:07:41.990Z"
   },
   {
    "duration": 173,
    "start_time": "2024-10-27T14:07:48.485Z"
   },
   {
    "duration": 167,
    "start_time": "2024-10-27T14:07:59.461Z"
   },
   {
    "duration": 155,
    "start_time": "2024-10-27T14:08:17.956Z"
   },
   {
    "duration": 2,
    "start_time": "2024-10-27T14:14:21.995Z"
   },
   {
    "duration": 16,
    "start_time": "2024-10-27T14:50:24.637Z"
   },
   {
    "duration": 14,
    "start_time": "2024-10-27T14:52:02.337Z"
   },
   {
    "duration": 383,
    "start_time": "2024-10-27T14:53:21.336Z"
   },
   {
    "duration": 14,
    "start_time": "2024-10-27T14:53:28.813Z"
   },
   {
    "duration": 10,
    "start_time": "2024-10-27T14:53:31.312Z"
   },
   {
    "duration": 2,
    "start_time": "2024-10-27T14:53:50.400Z"
   },
   {
    "duration": 3,
    "start_time": "2024-10-27T14:54:02.468Z"
   },
   {
    "duration": 11,
    "start_time": "2024-10-27T14:58:04.939Z"
   },
   {
    "duration": 4,
    "start_time": "2024-10-27T14:58:06.545Z"
   },
   {
    "duration": 10,
    "start_time": "2024-10-27T15:08:00.520Z"
   },
   {
    "duration": 4,
    "start_time": "2024-10-27T15:08:02.873Z"
   },
   {
    "duration": 8,
    "start_time": "2024-10-27T15:10:29.501Z"
   },
   {
    "duration": 12,
    "start_time": "2024-10-27T15:11:03.860Z"
   },
   {
    "duration": 5,
    "start_time": "2024-10-27T15:13:12.783Z"
   },
   {
    "duration": 7,
    "start_time": "2024-10-27T15:13:16.389Z"
   },
   {
    "duration": 10,
    "start_time": "2024-10-27T15:14:51.388Z"
   },
   {
    "duration": 4,
    "start_time": "2024-10-27T15:14:52.484Z"
   },
   {
    "duration": 11,
    "start_time": "2024-10-27T15:14:54.489Z"
   },
   {
    "duration": 9,
    "start_time": "2024-10-27T15:15:04.091Z"
   },
   {
    "duration": 9,
    "start_time": "2024-10-27T15:15:15.566Z"
   },
   {
    "duration": 4,
    "start_time": "2024-10-27T15:15:17.762Z"
   },
   {
    "duration": 4,
    "start_time": "2024-10-27T15:27:10.138Z"
   },
   {
    "duration": 2632,
    "start_time": "2024-10-28T00:01:04.537Z"
   },
   {
    "duration": 13,
    "start_time": "2024-10-28T00:01:07.172Z"
   },
   {
    "duration": 18,
    "start_time": "2024-10-28T00:01:07.187Z"
   },
   {
    "duration": 4,
    "start_time": "2024-10-28T00:01:07.207Z"
   },
   {
    "duration": 21,
    "start_time": "2024-10-28T00:01:07.214Z"
   },
   {
    "duration": 197,
    "start_time": "2024-10-28T00:01:07.237Z"
   },
   {
    "duration": 168,
    "start_time": "2024-10-28T00:01:07.436Z"
   },
   {
    "duration": 13,
    "start_time": "2024-10-28T00:01:07.606Z"
   },
   {
    "duration": 11,
    "start_time": "2024-10-28T00:01:07.620Z"
   },
   {
    "duration": 3,
    "start_time": "2024-10-28T12:09:39.779Z"
   },
   {
    "duration": 163,
    "start_time": "2024-10-28T12:11:30.517Z"
   },
   {
    "duration": 12,
    "start_time": "2024-10-28T12:11:36.600Z"
   },
   {
    "duration": 2635,
    "start_time": "2024-10-28T12:11:38.393Z"
   },
   {
    "duration": 14,
    "start_time": "2024-10-28T12:11:41.030Z"
   },
   {
    "duration": 17,
    "start_time": "2024-10-28T12:11:41.210Z"
   },
   {
    "duration": 3,
    "start_time": "2024-10-28T12:11:44.356Z"
   },
   {
    "duration": 5,
    "start_time": "2024-10-28T12:11:45.467Z"
   },
   {
    "duration": 11,
    "start_time": "2024-10-28T12:11:47.495Z"
   },
   {
    "duration": 6,
    "start_time": "2024-10-28T12:11:52.205Z"
   },
   {
    "duration": 6,
    "start_time": "2024-10-28T12:12:37.458Z"
   },
   {
    "duration": 3,
    "start_time": "2024-10-28T12:12:56.037Z"
   },
   {
    "duration": 5,
    "start_time": "2024-10-28T12:13:48.804Z"
   },
   {
    "duration": 5,
    "start_time": "2024-10-28T12:13:53.753Z"
   },
   {
    "duration": 5,
    "start_time": "2024-10-28T12:14:27.168Z"
   },
   {
    "duration": 6,
    "start_time": "2024-10-28T12:14:38.727Z"
   },
   {
    "duration": 8,
    "start_time": "2024-10-28T12:16:40.817Z"
   },
   {
    "duration": 6,
    "start_time": "2024-10-28T12:16:50.499Z"
   },
   {
    "duration": 3,
    "start_time": "2024-10-28T12:18:22.613Z"
   },
   {
    "duration": 2,
    "start_time": "2024-10-28T12:18:52.630Z"
   },
   {
    "duration": 75,
    "start_time": "2024-10-28T12:21:18.888Z"
   },
   {
    "duration": 158,
    "start_time": "2024-10-28T12:21:27.690Z"
   },
   {
    "duration": 3,
    "start_time": "2024-10-28T12:21:42.331Z"
   },
   {
    "duration": 13,
    "start_time": "2024-10-28T12:21:42.786Z"
   },
   {
    "duration": 16,
    "start_time": "2024-10-28T12:21:43.871Z"
   },
   {
    "duration": 18,
    "start_time": "2024-10-28T12:21:44.601Z"
   },
   {
    "duration": 6,
    "start_time": "2024-10-28T12:21:46.296Z"
   },
   {
    "duration": 916,
    "start_time": "2024-10-28T12:22:01.002Z"
   },
   {
    "duration": 10,
    "start_time": "2024-10-28T12:22:01.921Z"
   },
   {
    "duration": 17,
    "start_time": "2024-10-28T12:22:01.933Z"
   },
   {
    "duration": 385,
    "start_time": "2024-10-28T12:22:01.953Z"
   },
   {
    "duration": 0,
    "start_time": "2024-10-28T12:22:02.340Z"
   },
   {
    "duration": 0,
    "start_time": "2024-10-28T12:22:02.341Z"
   },
   {
    "duration": 0,
    "start_time": "2024-10-28T12:22:02.342Z"
   },
   {
    "duration": 0,
    "start_time": "2024-10-28T12:22:02.344Z"
   },
   {
    "duration": 0,
    "start_time": "2024-10-28T12:22:02.345Z"
   },
   {
    "duration": 0,
    "start_time": "2024-10-28T12:22:02.347Z"
   },
   {
    "duration": 0,
    "start_time": "2024-10-28T12:22:02.349Z"
   },
   {
    "duration": 0,
    "start_time": "2024-10-28T12:22:02.350Z"
   },
   {
    "duration": 0,
    "start_time": "2024-10-28T12:22:02.351Z"
   },
   {
    "duration": 19,
    "start_time": "2024-10-28T12:23:11.612Z"
   },
   {
    "duration": 14,
    "start_time": "2024-10-28T12:24:05.596Z"
   },
   {
    "duration": 3,
    "start_time": "2024-10-28T12:24:08.812Z"
   },
   {
    "duration": 4,
    "start_time": "2024-10-28T12:24:11.361Z"
   },
   {
    "duration": 6,
    "start_time": "2024-10-28T12:25:04.129Z"
   },
   {
    "duration": 191,
    "start_time": "2024-10-28T12:27:11.240Z"
   },
   {
    "duration": 23,
    "start_time": "2024-10-28T12:27:17.161Z"
   },
   {
    "duration": 196,
    "start_time": "2024-10-28T12:28:24.369Z"
   },
   {
    "duration": 6,
    "start_time": "2024-10-28T12:32:39.053Z"
   },
   {
    "duration": 6,
    "start_time": "2024-10-28T12:32:42.556Z"
   },
   {
    "duration": 6,
    "start_time": "2024-10-28T12:32:44.326Z"
   },
   {
    "duration": 5,
    "start_time": "2024-10-28T12:32:45.786Z"
   },
   {
    "duration": 4,
    "start_time": "2024-10-28T12:32:47.968Z"
   },
   {
    "duration": 159,
    "start_time": "2024-10-28T12:32:52.588Z"
   },
   {
    "duration": 177,
    "start_time": "2024-10-28T12:33:15.327Z"
   },
   {
    "duration": 163,
    "start_time": "2024-10-28T12:33:30.471Z"
   },
   {
    "duration": 193,
    "start_time": "2024-10-28T12:34:22.206Z"
   },
   {
    "duration": 220,
    "start_time": "2024-10-28T12:34:42.978Z"
   },
   {
    "duration": 180,
    "start_time": "2024-10-28T12:34:58.379Z"
   },
   {
    "duration": 174,
    "start_time": "2024-10-28T12:35:13.903Z"
   },
   {
    "duration": 180,
    "start_time": "2024-10-28T12:36:15.569Z"
   },
   {
    "duration": 21,
    "start_time": "2024-10-28T13:06:00.995Z"
   },
   {
    "duration": 14,
    "start_time": "2024-10-28T13:06:03.713Z"
   },
   {
    "duration": 5,
    "start_time": "2024-10-28T13:06:05.662Z"
   },
   {
    "duration": 2470,
    "start_time": "2024-10-28T14:50:42.360Z"
   },
   {
    "duration": 12,
    "start_time": "2024-10-28T14:50:44.833Z"
   },
   {
    "duration": 16,
    "start_time": "2024-10-28T14:50:44.847Z"
   },
   {
    "duration": 3,
    "start_time": "2024-10-28T14:50:44.871Z"
   },
   {
    "duration": 6,
    "start_time": "2024-10-28T14:50:44.876Z"
   },
   {
    "duration": 4,
    "start_time": "2024-10-28T14:50:44.884Z"
   },
   {
    "duration": 5,
    "start_time": "2024-10-28T14:50:44.890Z"
   },
   {
    "duration": 5,
    "start_time": "2024-10-28T14:50:44.897Z"
   },
   {
    "duration": 5,
    "start_time": "2024-10-28T14:50:44.903Z"
   },
   {
    "duration": 4,
    "start_time": "2024-10-28T14:50:44.911Z"
   },
   {
    "duration": 278,
    "start_time": "2024-10-28T14:50:44.916Z"
   },
   {
    "duration": 0,
    "start_time": "2024-10-28T14:50:45.197Z"
   },
   {
    "duration": 0,
    "start_time": "2024-10-28T14:50:45.198Z"
   },
   {
    "duration": 0,
    "start_time": "2024-10-28T14:50:45.199Z"
   },
   {
    "duration": 5,
    "start_time": "2024-10-28T15:24:10.675Z"
   },
   {
    "duration": 849,
    "start_time": "2024-10-28T15:24:51.756Z"
   },
   {
    "duration": 10,
    "start_time": "2024-10-28T15:24:52.607Z"
   },
   {
    "duration": 15,
    "start_time": "2024-10-28T15:24:52.619Z"
   },
   {
    "duration": 4,
    "start_time": "2024-10-28T15:24:52.636Z"
   },
   {
    "duration": 6,
    "start_time": "2024-10-28T15:24:52.642Z"
   },
   {
    "duration": 24,
    "start_time": "2024-10-28T15:24:52.649Z"
   },
   {
    "duration": 5,
    "start_time": "2024-10-28T15:24:52.674Z"
   },
   {
    "duration": 5,
    "start_time": "2024-10-28T15:24:52.680Z"
   },
   {
    "duration": 4,
    "start_time": "2024-10-28T15:24:52.687Z"
   },
   {
    "duration": 3,
    "start_time": "2024-10-28T15:24:52.695Z"
   },
   {
    "duration": 297,
    "start_time": "2024-10-28T15:24:52.700Z"
   },
   {
    "duration": 0,
    "start_time": "2024-10-28T15:24:52.999Z"
   },
   {
    "duration": 0,
    "start_time": "2024-10-28T15:24:53.000Z"
   },
   {
    "duration": 0,
    "start_time": "2024-10-28T15:24:53.001Z"
   },
   {
    "duration": 167,
    "start_time": "2024-10-28T15:25:19.878Z"
   },
   {
    "duration": 12,
    "start_time": "2024-10-28T15:25:38.607Z"
   },
   {
    "duration": 4,
    "start_time": "2024-10-28T15:25:39.261Z"
   },
   {
    "duration": 164,
    "start_time": "2024-10-28T19:25:48.005Z"
   },
   {
    "duration": 2524,
    "start_time": "2024-10-28T19:26:00.929Z"
   },
   {
    "duration": 14,
    "start_time": "2024-10-28T19:26:03.455Z"
   },
   {
    "duration": 17,
    "start_time": "2024-10-28T19:26:03.470Z"
   },
   {
    "duration": 4,
    "start_time": "2024-10-28T19:26:03.489Z"
   },
   {
    "duration": 5,
    "start_time": "2024-10-28T19:26:03.496Z"
   },
   {
    "duration": 4,
    "start_time": "2024-10-28T19:26:03.503Z"
   },
   {
    "duration": 5,
    "start_time": "2024-10-28T19:26:03.509Z"
   },
   {
    "duration": 5,
    "start_time": "2024-10-28T19:26:03.515Z"
   },
   {
    "duration": 4,
    "start_time": "2024-10-28T19:26:03.521Z"
   },
   {
    "duration": 4,
    "start_time": "2024-10-28T19:26:03.527Z"
   },
   {
    "duration": 1162,
    "start_time": "2024-10-28T19:26:03.533Z"
   },
   {
    "duration": 173,
    "start_time": "2024-10-28T19:26:04.697Z"
   },
   {
    "duration": 15,
    "start_time": "2024-10-28T19:26:04.872Z"
   },
   {
    "duration": 4,
    "start_time": "2024-10-28T19:26:04.888Z"
   },
   {
    "duration": 154,
    "start_time": "2024-10-28T19:26:33.878Z"
   },
   {
    "duration": 148,
    "start_time": "2024-10-28T19:27:07.528Z"
   },
   {
    "duration": 239,
    "start_time": "2024-10-28T19:28:42.321Z"
   },
   {
    "duration": 2465,
    "start_time": "2024-10-28T22:46:18.952Z"
   },
   {
    "duration": 13,
    "start_time": "2024-10-28T22:46:21.419Z"
   },
   {
    "duration": 17,
    "start_time": "2024-10-28T22:46:21.434Z"
   },
   {
    "duration": 5,
    "start_time": "2024-10-28T22:46:21.454Z"
   },
   {
    "duration": 24,
    "start_time": "2024-10-28T22:46:21.462Z"
   },
   {
    "duration": 5,
    "start_time": "2024-10-28T22:46:21.488Z"
   },
   {
    "duration": 6,
    "start_time": "2024-10-28T22:46:21.494Z"
   },
   {
    "duration": 5,
    "start_time": "2024-10-28T22:46:21.502Z"
   },
   {
    "duration": 4,
    "start_time": "2024-10-28T22:46:21.508Z"
   },
   {
    "duration": 4,
    "start_time": "2024-10-28T22:46:21.515Z"
   },
   {
    "duration": 254,
    "start_time": "2024-10-28T22:46:21.521Z"
   },
   {
    "duration": 158,
    "start_time": "2024-10-28T22:46:21.777Z"
   },
   {
    "duration": 12,
    "start_time": "2024-10-28T22:46:21.937Z"
   },
   {
    "duration": 5,
    "start_time": "2024-10-28T22:46:21.951Z"
   }
  ],
  "kernelspec": {
   "display_name": "Python 3 (ipykernel)",
   "language": "python",
   "name": "python3"
  },
  "language_info": {
   "codemirror_mode": {
    "name": "ipython",
    "version": 3
   },
   "file_extension": ".py",
   "mimetype": "text/x-python",
   "name": "python",
   "nbconvert_exporter": "python",
   "pygments_lexer": "ipython3",
   "version": "3.9.19"
  },
  "toc": {
   "base_numbering": 1,
   "nav_menu": {},
   "number_sections": true,
   "sideBar": true,
   "skip_h1_title": true,
   "title_cell": "Table of Contents",
   "title_sidebar": "Contents",
   "toc_cell": false,
   "toc_position": {},
   "toc_section_display": true,
   "toc_window_display": false
  }
 },
 "nbformat": 4,
 "nbformat_minor": 2
}
